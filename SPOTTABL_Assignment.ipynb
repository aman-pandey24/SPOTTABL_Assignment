{
 "cells": [
  {
   "cell_type": "code",
   "execution_count": 229,
   "id": "e764e2e6",
   "metadata": {},
   "outputs": [],
   "source": [
    "import pandas as pd\n",
    "import json\n",
    "import warnings\n",
    "warnings.filterwarnings('ignore')"
   ]
  },
  {
   "cell_type": "code",
   "execution_count": 230,
   "id": "99664cd2",
   "metadata": {},
   "outputs": [],
   "source": [
    "df=pd.read_json('C:/Users/Dell/Downloads/domainTags2.json')"
   ]
  },
  {
   "cell_type": "code",
   "execution_count": 231,
   "id": "d425d93b",
   "metadata": {},
   "outputs": [
    {
     "data": {
      "text/html": [
       "<div>\n",
       "<style scoped>\n",
       "    .dataframe tbody tr th:only-of-type {\n",
       "        vertical-align: middle;\n",
       "    }\n",
       "\n",
       "    .dataframe tbody tr th {\n",
       "        vertical-align: top;\n",
       "    }\n",
       "\n",
       "    .dataframe thead th {\n",
       "        text-align: right;\n",
       "    }\n",
       "</style>\n",
       "<table border=\"1\" class=\"dataframe\">\n",
       "  <thead>\n",
       "    <tr style=\"text-align: right;\">\n",
       "      <th></th>\n",
       "      <th>_id</th>\n",
       "      <th>tags</th>\n",
       "      <th>companyName</th>\n",
       "      <th>domainName</th>\n",
       "      <th>crunchbase_url</th>\n",
       "      <th>TYPE</th>\n",
       "      <th>UpdatedOn</th>\n",
       "      <th>companyDesc</th>\n",
       "      <th>companyWebsite</th>\n",
       "      <th>employeeNumber</th>\n",
       "      <th>foundedDate</th>\n",
       "      <th>domain_groups</th>\n",
       "      <th>fundingList</th>\n",
       "    </tr>\n",
       "  </thead>\n",
       "  <tbody>\n",
       "    <tr>\n",
       "      <th>0</th>\n",
       "      <td>{'$oid': '5d09dfd68501d21d7d729bb1'}</td>\n",
       "      <td>[finance, insurance]</td>\n",
       "      <td>[21st century insurance]</td>\n",
       "      <td>21st</td>\n",
       "      <td>https://www.crunchbase.com/organization/21st-c...</td>\n",
       "      <td>Product-based</td>\n",
       "      <td>{'$date': '2020-01-18T03:39:34.845Z'}</td>\n",
       "      <td>since 1958, 21st century insurance has been de...</td>\n",
       "      <td>www.21st.com</td>\n",
       "      <td>{'max': 10000, 'min': 5001}</td>\n",
       "      <td>{'$date': {'$numberLong': '-378658800000'}}</td>\n",
       "      <td>{'Fintech/ Payments': 0.825334256973911, 'Insu...</td>\n",
       "      <td>NaN</td>\n",
       "    </tr>\n",
       "    <tr>\n",
       "      <th>1</th>\n",
       "      <td>{'$oid': '5d09dfd78501d21d7d729bbb'}</td>\n",
       "      <td>[3d technology]</td>\n",
       "      <td>[3d networks]</td>\n",
       "      <td>3dnetworks</td>\n",
       "      <td>https://www.crunchbase.com/organization/3d-net...</td>\n",
       "      <td>Product-based</td>\n",
       "      <td>{'$date': '2020-01-20T15:10:33.852Z'}</td>\n",
       "      <td>NaN</td>\n",
       "      <td>www.3dnetworks.com</td>\n",
       "      <td>NaN</td>\n",
       "      <td>{'$date': '2000-01-01T09:00:00.000Z'}</td>\n",
       "      <td>NaN</td>\n",
       "      <td>NaN</td>\n",
       "    </tr>\n",
       "    <tr>\n",
       "      <th>2</th>\n",
       "      <td>{'$oid': '5d09dfd78501d21d7d729bbc'}</td>\n",
       "      <td>[3d technology, augmented reality, e-commerce]</td>\n",
       "      <td>[3dphy]</td>\n",
       "      <td>3dphy</td>\n",
       "      <td>https://www.crunchbase.com/organization/3dphy-...</td>\n",
       "      <td>Product-based</td>\n",
       "      <td>{'$date': '2020-01-16T11:44:30.116Z'}</td>\n",
       "      <td>3dphy provides a range of 3d virtual and augme...</td>\n",
       "      <td>www.3dphy.com</td>\n",
       "      <td>{'max': 50, 'min': 11}</td>\n",
       "      <td>{'$date': '2014-11-03T09:00:00.000Z'}</td>\n",
       "      <td>NaN</td>\n",
       "      <td>[{'fundingDate': {'$date': '2014-12-18T09:00:0...</td>\n",
       "    </tr>\n",
       "    <tr>\n",
       "      <th>3</th>\n",
       "      <td>{'$oid': '5d09dfd78501d21d7d729bbe'}</td>\n",
       "      <td>[android, enterprise software, mobile]</td>\n",
       "      <td>[3lm]</td>\n",
       "      <td>3lm</td>\n",
       "      <td>https://www.crunchbase.com/organization/3lm?ut...</td>\n",
       "      <td>Product-based</td>\n",
       "      <td>{'$date': '2020-01-21T12:50:14.767Z'}</td>\n",
       "      <td>3lm has already signed deals to provide its te...</td>\n",
       "      <td>www.3lm.com</td>\n",
       "      <td>{'max': 50, 'min': 11}</td>\n",
       "      <td>{'$date': '2010-07-01T09:00:00.000Z'}</td>\n",
       "      <td>{'Developer Tools': 0.617930901407716}</td>\n",
       "      <td>[{'fundingDate': {'$date': '2010-07-01T09:00:0...</td>\n",
       "    </tr>\n",
       "    <tr>\n",
       "      <th>4</th>\n",
       "      <td>{'$oid': '5d09dfd78501d21d7d729bbf'}</td>\n",
       "      <td>[automotive, electronics, enterprise software]</td>\n",
       "      <td>[3m]</td>\n",
       "      <td>3m</td>\n",
       "      <td>https://www.crunchbase.com/organization/3m?utm...</td>\n",
       "      <td>Product-based</td>\n",
       "      <td>{'$date': '2020-01-17T17:56:53.792Z'}</td>\n",
       "      <td>3m operates as a diversified technology compan...</td>\n",
       "      <td>www.3m.com</td>\n",
       "      <td>{'max': 10001, 'min': 0}</td>\n",
       "      <td>{'$date': {'$numberLong': '-2145884400000'}}</td>\n",
       "      <td>{'Hardware': 0.6879067738004571, 'Automotive':...</td>\n",
       "      <td>NaN</td>\n",
       "    </tr>\n",
       "    <tr>\n",
       "      <th>5</th>\n",
       "      <td>{'$oid': '5d09dfd78501d21d7d729bc0'}</td>\n",
       "      <td>[enterprise software, gambling]</td>\n",
       "      <td>[500 startups]</td>\n",
       "      <td>500</td>\n",
       "      <td>https://www.crunchbase.com/organization/500-co...</td>\n",
       "      <td>Product-based</td>\n",
       "      <td>{'$date': '2020-01-22T04:52:23.859Z'}</td>\n",
       "      <td>500.com is a chinese online sports lottery ser...</td>\n",
       "      <td>www.500.com/</td>\n",
       "      <td>{'max': 1000, 'min': 501}</td>\n",
       "      <td>{'$date': '2001-10-01T09:00:00.000Z'}</td>\n",
       "      <td>NaN</td>\n",
       "      <td>[{'fundingDate': {'$date': '2013-10-21T09:00:0...</td>\n",
       "    </tr>\n",
       "    <tr>\n",
       "      <th>6</th>\n",
       "      <td>{'$oid': '5d09dfd78501d21d7d729bf0'}</td>\n",
       "      <td>[health care, insurance, public relations]</td>\n",
       "      <td>[aci a verisk company]</td>\n",
       "      <td>verisk</td>\n",
       "      <td>https://www.crunchbase.com/organization/verisk...</td>\n",
       "      <td>Product-based</td>\n",
       "      <td>{'$date': '2020-01-22T05:29:55.781Z'}</td>\n",
       "      <td>verisk analytics, inc. (verisk) enables risk-b...</td>\n",
       "      <td>www.verisk.com</td>\n",
       "      <td>{'max': 5000, 'min': 1001}</td>\n",
       "      <td>{'$date': '1971-01-01T09:00:00.000Z'}</td>\n",
       "      <td>NaN</td>\n",
       "      <td>[{'fundingDate': {'$date': '2016-09-11T09:00:0...</td>\n",
       "    </tr>\n",
       "    <tr>\n",
       "      <th>7</th>\n",
       "      <td>{'$oid': '5d09dfd78501d21d7d729c0c'}</td>\n",
       "      <td>[electronics, manufacturing, product design]</td>\n",
       "      <td>[adcock ingram]</td>\n",
       "      <td>adcock</td>\n",
       "      <td>https://www.crunchbase.com/organization/adcock...</td>\n",
       "      <td>Product-based</td>\n",
       "      <td>{'$date': '2020-01-19T19:59:56.775Z'}</td>\n",
       "      <td>NaN</td>\n",
       "      <td>www.adcock.co.uk/</td>\n",
       "      <td>{'max': 1000, 'min': 501}</td>\n",
       "      <td>{'$date': {'$numberLong': '-189356400000'}}</td>\n",
       "      <td>{'Hardware': 0.785256187259849}</td>\n",
       "      <td>NaN</td>\n",
       "    </tr>\n",
       "    <tr>\n",
       "      <th>8</th>\n",
       "      <td>{'$oid': '5d09dfd88501d21d7d729c23'}</td>\n",
       "      <td>[industrial, security, software]</td>\n",
       "      <td>[tyco fire security india, tyco international,...</td>\n",
       "      <td>tyco</td>\n",
       "      <td>https://www.crunchbase.com/organization/tyco-i...</td>\n",
       "      <td>Product-based</td>\n",
       "      <td>{'$date': '2020-01-21T06:44:14.399Z'}</td>\n",
       "      <td>tyco international (nyse: tyc) is a diversifie...</td>\n",
       "      <td>www.tyco.com</td>\n",
       "      <td>{'max': 10001, 'min': 0}</td>\n",
       "      <td>{'$date': {'$numberLong': '-315586800000'}}</td>\n",
       "      <td>NaN</td>\n",
       "      <td>NaN</td>\n",
       "    </tr>\n",
       "    <tr>\n",
       "      <th>9</th>\n",
       "      <td>{'$oid': '5d09dfd88501d21d7d729c39'}</td>\n",
       "      <td>[analytics, artificial intelligence, automotiv...</td>\n",
       "      <td>[affectiva]</td>\n",
       "      <td>affectiva</td>\n",
       "      <td>https://www.crunchbase.com/organization/affect...</td>\n",
       "      <td>Product-based</td>\n",
       "      <td>{'$date': '2020-01-21T01:27:24.378Z'}</td>\n",
       "      <td>affectiva, an mit media lab spin-off, is a pio...</td>\n",
       "      <td>www.affectiva.com</td>\n",
       "      <td>{'max': 100, 'min': 51}</td>\n",
       "      <td>{'$date': '2009-01-01T09:00:00.000Z'}</td>\n",
       "      <td>NaN</td>\n",
       "      <td>NaN</td>\n",
       "    </tr>\n",
       "  </tbody>\n",
       "</table>\n",
       "</div>"
      ],
      "text/plain": [
       "                                    _id  \\\n",
       "0  {'$oid': '5d09dfd68501d21d7d729bb1'}   \n",
       "1  {'$oid': '5d09dfd78501d21d7d729bbb'}   \n",
       "2  {'$oid': '5d09dfd78501d21d7d729bbc'}   \n",
       "3  {'$oid': '5d09dfd78501d21d7d729bbe'}   \n",
       "4  {'$oid': '5d09dfd78501d21d7d729bbf'}   \n",
       "5  {'$oid': '5d09dfd78501d21d7d729bc0'}   \n",
       "6  {'$oid': '5d09dfd78501d21d7d729bf0'}   \n",
       "7  {'$oid': '5d09dfd78501d21d7d729c0c'}   \n",
       "8  {'$oid': '5d09dfd88501d21d7d729c23'}   \n",
       "9  {'$oid': '5d09dfd88501d21d7d729c39'}   \n",
       "\n",
       "                                                tags  \\\n",
       "0                               [finance, insurance]   \n",
       "1                                    [3d technology]   \n",
       "2     [3d technology, augmented reality, e-commerce]   \n",
       "3             [android, enterprise software, mobile]   \n",
       "4     [automotive, electronics, enterprise software]   \n",
       "5                    [enterprise software, gambling]   \n",
       "6         [health care, insurance, public relations]   \n",
       "7       [electronics, manufacturing, product design]   \n",
       "8                   [industrial, security, software]   \n",
       "9  [analytics, artificial intelligence, automotiv...   \n",
       "\n",
       "                                         companyName  domainName  \\\n",
       "0                           [21st century insurance]        21st   \n",
       "1                                      [3d networks]  3dnetworks   \n",
       "2                                            [3dphy]       3dphy   \n",
       "3                                              [3lm]         3lm   \n",
       "4                                               [3m]          3m   \n",
       "5                                     [500 startups]         500   \n",
       "6                             [aci a verisk company]      verisk   \n",
       "7                                    [adcock ingram]      adcock   \n",
       "8  [tyco fire security india, tyco international,...        tyco   \n",
       "9                                        [affectiva]   affectiva   \n",
       "\n",
       "                                      crunchbase_url           TYPE  \\\n",
       "0  https://www.crunchbase.com/organization/21st-c...  Product-based   \n",
       "1  https://www.crunchbase.com/organization/3d-net...  Product-based   \n",
       "2  https://www.crunchbase.com/organization/3dphy-...  Product-based   \n",
       "3  https://www.crunchbase.com/organization/3lm?ut...  Product-based   \n",
       "4  https://www.crunchbase.com/organization/3m?utm...  Product-based   \n",
       "5  https://www.crunchbase.com/organization/500-co...  Product-based   \n",
       "6  https://www.crunchbase.com/organization/verisk...  Product-based   \n",
       "7  https://www.crunchbase.com/organization/adcock...  Product-based   \n",
       "8  https://www.crunchbase.com/organization/tyco-i...  Product-based   \n",
       "9  https://www.crunchbase.com/organization/affect...  Product-based   \n",
       "\n",
       "                               UpdatedOn  \\\n",
       "0  {'$date': '2020-01-18T03:39:34.845Z'}   \n",
       "1  {'$date': '2020-01-20T15:10:33.852Z'}   \n",
       "2  {'$date': '2020-01-16T11:44:30.116Z'}   \n",
       "3  {'$date': '2020-01-21T12:50:14.767Z'}   \n",
       "4  {'$date': '2020-01-17T17:56:53.792Z'}   \n",
       "5  {'$date': '2020-01-22T04:52:23.859Z'}   \n",
       "6  {'$date': '2020-01-22T05:29:55.781Z'}   \n",
       "7  {'$date': '2020-01-19T19:59:56.775Z'}   \n",
       "8  {'$date': '2020-01-21T06:44:14.399Z'}   \n",
       "9  {'$date': '2020-01-21T01:27:24.378Z'}   \n",
       "\n",
       "                                         companyDesc      companyWebsite  \\\n",
       "0  since 1958, 21st century insurance has been de...        www.21st.com   \n",
       "1                                                NaN  www.3dnetworks.com   \n",
       "2  3dphy provides a range of 3d virtual and augme...       www.3dphy.com   \n",
       "3  3lm has already signed deals to provide its te...         www.3lm.com   \n",
       "4  3m operates as a diversified technology compan...          www.3m.com   \n",
       "5  500.com is a chinese online sports lottery ser...        www.500.com/   \n",
       "6  verisk analytics, inc. (verisk) enables risk-b...      www.verisk.com   \n",
       "7                                                NaN   www.adcock.co.uk/   \n",
       "8  tyco international (nyse: tyc) is a diversifie...        www.tyco.com   \n",
       "9  affectiva, an mit media lab spin-off, is a pio...   www.affectiva.com   \n",
       "\n",
       "                employeeNumber                                   foundedDate  \\\n",
       "0  {'max': 10000, 'min': 5001}   {'$date': {'$numberLong': '-378658800000'}}   \n",
       "1                          NaN         {'$date': '2000-01-01T09:00:00.000Z'}   \n",
       "2       {'max': 50, 'min': 11}         {'$date': '2014-11-03T09:00:00.000Z'}   \n",
       "3       {'max': 50, 'min': 11}         {'$date': '2010-07-01T09:00:00.000Z'}   \n",
       "4     {'max': 10001, 'min': 0}  {'$date': {'$numberLong': '-2145884400000'}}   \n",
       "5    {'max': 1000, 'min': 501}         {'$date': '2001-10-01T09:00:00.000Z'}   \n",
       "6   {'max': 5000, 'min': 1001}         {'$date': '1971-01-01T09:00:00.000Z'}   \n",
       "7    {'max': 1000, 'min': 501}   {'$date': {'$numberLong': '-189356400000'}}   \n",
       "8     {'max': 10001, 'min': 0}   {'$date': {'$numberLong': '-315586800000'}}   \n",
       "9      {'max': 100, 'min': 51}         {'$date': '2009-01-01T09:00:00.000Z'}   \n",
       "\n",
       "                                       domain_groups  \\\n",
       "0  {'Fintech/ Payments': 0.825334256973911, 'Insu...   \n",
       "1                                                NaN   \n",
       "2                                                NaN   \n",
       "3             {'Developer Tools': 0.617930901407716}   \n",
       "4  {'Hardware': 0.6879067738004571, 'Automotive':...   \n",
       "5                                                NaN   \n",
       "6                                                NaN   \n",
       "7                    {'Hardware': 0.785256187259849}   \n",
       "8                                                NaN   \n",
       "9                                                NaN   \n",
       "\n",
       "                                         fundingList  \n",
       "0                                                NaN  \n",
       "1                                                NaN  \n",
       "2  [{'fundingDate': {'$date': '2014-12-18T09:00:0...  \n",
       "3  [{'fundingDate': {'$date': '2010-07-01T09:00:0...  \n",
       "4                                                NaN  \n",
       "5  [{'fundingDate': {'$date': '2013-10-21T09:00:0...  \n",
       "6  [{'fundingDate': {'$date': '2016-09-11T09:00:0...  \n",
       "7                                                NaN  \n",
       "8                                                NaN  \n",
       "9                                                NaN  "
      ]
     },
     "execution_count": 231,
     "metadata": {},
     "output_type": "execute_result"
    }
   ],
   "source": [
    "df.head(10)"
   ]
  },
  {
   "cell_type": "code",
   "execution_count": 232,
   "id": "4f892db8",
   "metadata": {},
   "outputs": [
    {
     "name": "stdout",
     "output_type": "stream",
     "text": [
      "<class 'pandas.core.frame.DataFrame'>\n",
      "RangeIndex: 7462 entries, 0 to 7461\n",
      "Data columns (total 13 columns):\n",
      " #   Column          Non-Null Count  Dtype \n",
      "---  ------          --------------  ----- \n",
      " 0   _id             7462 non-null   object\n",
      " 1   tags            7397 non-null   object\n",
      " 2   companyName     7462 non-null   object\n",
      " 3   domainName      7462 non-null   object\n",
      " 4   crunchbase_url  7462 non-null   object\n",
      " 5   TYPE            6097 non-null   object\n",
      " 6   UpdatedOn       7428 non-null   object\n",
      " 7   companyDesc     6247 non-null   object\n",
      " 8   companyWebsite  7336 non-null   object\n",
      " 9   employeeNumber  6604 non-null   object\n",
      " 10  foundedDate     6603 non-null   object\n",
      " 11  domain_groups   4406 non-null   object\n",
      " 12  fundingList     2140 non-null   object\n",
      "dtypes: object(13)\n",
      "memory usage: 758.0+ KB\n"
     ]
    }
   ],
   "source": [
    "df.info()"
   ]
  },
  {
   "cell_type": "code",
   "execution_count": 233,
   "id": "91d5435f",
   "metadata": {},
   "outputs": [],
   "source": [
    "df['companyName']=df['companyName'].apply(lambda x:x[0])"
   ]
  },
  {
   "cell_type": "code",
   "execution_count": 234,
   "id": "4ed5c13e",
   "metadata": {},
   "outputs": [
    {
     "data": {
      "text/plain": [
       "_id                  0\n",
       "tags                65\n",
       "companyName          0\n",
       "domainName           0\n",
       "crunchbase_url       0\n",
       "TYPE              1365\n",
       "UpdatedOn           34\n",
       "companyDesc       1215\n",
       "companyWebsite     126\n",
       "employeeNumber     858\n",
       "foundedDate        859\n",
       "domain_groups     3056\n",
       "fundingList       5322\n",
       "dtype: int64"
      ]
     },
     "execution_count": 234,
     "metadata": {},
     "output_type": "execute_result"
    }
   ],
   "source": [
    "df.isnull().sum()"
   ]
  },
  {
   "cell_type": "code",
   "execution_count": 235,
   "id": "b638a5b9",
   "metadata": {},
   "outputs": [],
   "source": [
    "df2=df"
   ]
  },
  {
   "cell_type": "code",
   "execution_count": 236,
   "id": "56b6f2c0",
   "metadata": {},
   "outputs": [],
   "source": [
    "df2.dropna(subset='tags',axis=0,inplace=True)"
   ]
  },
  {
   "cell_type": "code",
   "execution_count": 237,
   "id": "32df9e0c",
   "metadata": {
    "scrolled": true
   },
   "outputs": [
    {
     "data": {
      "text/plain": [
       "0"
      ]
     },
     "execution_count": 237,
     "metadata": {},
     "output_type": "execute_result"
    }
   ],
   "source": [
    "df2['tags'].isnull().sum()"
   ]
  },
  {
   "cell_type": "markdown",
   "id": "e90dcd70",
   "metadata": {},
   "source": [
    "# Question 1- How many companies are the competitor of given company"
   ]
  },
  {
   "cell_type": "code",
   "execution_count": 238,
   "id": "9af22e6e",
   "metadata": {},
   "outputs": [
    {
     "name": "stdout",
     "output_type": "stream",
     "text": [
      "Enter the company name whose competitor you want to find : 3d networks\n"
     ]
    }
   ],
   "source": [
    "name=input(\"Enter the company name whose competitor you want to find : \")"
   ]
  },
  {
   "cell_type": "code",
   "execution_count": 239,
   "id": "d56e5719",
   "metadata": {
    "scrolled": true
   },
   "outputs": [
    {
     "data": {
      "text/html": [
       "<div>\n",
       "<style scoped>\n",
       "    .dataframe tbody tr th:only-of-type {\n",
       "        vertical-align: middle;\n",
       "    }\n",
       "\n",
       "    .dataframe tbody tr th {\n",
       "        vertical-align: top;\n",
       "    }\n",
       "\n",
       "    .dataframe thead th {\n",
       "        text-align: right;\n",
       "    }\n",
       "</style>\n",
       "<table border=\"1\" class=\"dataframe\">\n",
       "  <thead>\n",
       "    <tr style=\"text-align: right;\">\n",
       "      <th></th>\n",
       "      <th>_id</th>\n",
       "      <th>tags</th>\n",
       "      <th>companyName</th>\n",
       "      <th>domainName</th>\n",
       "      <th>crunchbase_url</th>\n",
       "      <th>TYPE</th>\n",
       "      <th>UpdatedOn</th>\n",
       "      <th>companyDesc</th>\n",
       "      <th>companyWebsite</th>\n",
       "      <th>employeeNumber</th>\n",
       "      <th>foundedDate</th>\n",
       "      <th>domain_groups</th>\n",
       "      <th>fundingList</th>\n",
       "    </tr>\n",
       "  </thead>\n",
       "  <tbody>\n",
       "    <tr>\n",
       "      <th>1</th>\n",
       "      <td>{'$oid': '5d09dfd78501d21d7d729bbb'}</td>\n",
       "      <td>[3d technology]</td>\n",
       "      <td>3d networks</td>\n",
       "      <td>3dnetworks</td>\n",
       "      <td>https://www.crunchbase.com/organization/3d-net...</td>\n",
       "      <td>Product-based</td>\n",
       "      <td>{'$date': '2020-01-20T15:10:33.852Z'}</td>\n",
       "      <td>NaN</td>\n",
       "      <td>www.3dnetworks.com</td>\n",
       "      <td>NaN</td>\n",
       "      <td>{'$date': '2000-01-01T09:00:00.000Z'}</td>\n",
       "      <td>NaN</td>\n",
       "      <td>NaN</td>\n",
       "    </tr>\n",
       "  </tbody>\n",
       "</table>\n",
       "</div>"
      ],
      "text/plain": [
       "                                    _id             tags  companyName  \\\n",
       "1  {'$oid': '5d09dfd78501d21d7d729bbb'}  [3d technology]  3d networks   \n",
       "\n",
       "   domainName                                     crunchbase_url  \\\n",
       "1  3dnetworks  https://www.crunchbase.com/organization/3d-net...   \n",
       "\n",
       "            TYPE                              UpdatedOn companyDesc  \\\n",
       "1  Product-based  {'$date': '2020-01-20T15:10:33.852Z'}         NaN   \n",
       "\n",
       "       companyWebsite employeeNumber                            foundedDate  \\\n",
       "1  www.3dnetworks.com            NaN  {'$date': '2000-01-01T09:00:00.000Z'}   \n",
       "\n",
       "  domain_groups fundingList  \n",
       "1           NaN         NaN  "
      ]
     },
     "execution_count": 239,
     "metadata": {},
     "output_type": "execute_result"
    }
   ],
   "source": [
    "df2.loc[df2['companyName']==name]"
   ]
  },
  {
   "cell_type": "code",
   "execution_count": 240,
   "id": "dd8e74ca",
   "metadata": {},
   "outputs": [],
   "source": [
    "index=df2.loc[df2['companyName']==name].index"
   ]
  },
  {
   "cell_type": "code",
   "execution_count": 241,
   "id": "326754aa",
   "metadata": {},
   "outputs": [],
   "source": [
    "list_1=df2.iloc[index[0]]['tags']"
   ]
  },
  {
   "cell_type": "code",
   "execution_count": 242,
   "id": "ff1e3a73",
   "metadata": {},
   "outputs": [
    {
     "data": {
      "text/plain": [
       "['3d technology']"
      ]
     },
     "execution_count": 242,
     "metadata": {},
     "output_type": "execute_result"
    }
   ],
   "source": [
    "list_1"
   ]
  },
  {
   "cell_type": "code",
   "execution_count": 243,
   "id": "4cacf83a",
   "metadata": {},
   "outputs": [],
   "source": [
    "ans=[]"
   ]
  },
  {
   "cell_type": "code",
   "execution_count": 244,
   "id": "ce5cc954",
   "metadata": {},
   "outputs": [],
   "source": [
    "for index,row in df2.iterrows():\n",
    "    tags=row['tags']\n",
    "    companyName=row['companyName']\n",
    "    for x in tags:\n",
    "        contains_key = any(x in item for item in list_1)\n",
    "        if contains_key:\n",
    "            ans.append(companyName)\n",
    "            break\n",
    "      "
   ]
  },
  {
   "cell_type": "code",
   "execution_count": 245,
   "id": "bbf5472a",
   "metadata": {},
   "outputs": [
    {
     "data": {
      "text/plain": [
       "17"
      ]
     },
     "execution_count": 245,
     "metadata": {},
     "output_type": "execute_result"
    }
   ],
   "source": [
    "len(ans)"
   ]
  },
  {
   "cell_type": "markdown",
   "id": "801494ab",
   "metadata": {},
   "source": [
    "#### Conclusion\n",
    "- From above we get a list of all companies which are the competitor of given input company tag"
   ]
  },
  {
   "cell_type": "markdown",
   "id": "e7be435d",
   "metadata": {},
   "source": [
    "# Question-2 Given a domain (any one of the domains in ‘tags’ field), present the companies with the fastest, and the slowest growth"
   ]
  },
  {
   "cell_type": "markdown",
   "id": "5e6f1e46",
   "metadata": {},
   "source": [
    "### My Approach to solve the problem -\n",
    "- we can go with the funding list and compare the money raised by companies and got our answer but in funding list there is more 70% of data in null therefore i used other approach to calculate the answer\n",
    "- First I converted the UpdatedOn column into a datetime format\n",
    "- Then segregate the max number of employee and min number of employee from employeeNumber column\n",
    "- Then converted the FoundedDate column into datetime format \n",
    "- After that calculate the difference of number of days in between foundedDate column and UpdatedOn column\n",
    "- Now add one more column to my dataframe which is named as Ratio which can be calculated by (Max Number of employee of each column)/(difference in number of days bewteen foundedDate and UpdatedOn column)\n",
    "- The column ratio will provide the idea about how much employee added to company with passage of time and ultimately it will decide the growth rate of company\n",
    "- The company with maximum ratio will have fastest growth rate and company with minimum ratio value will have slowest growth rate\n",
    "- Then I sort the dataframe in descending order \n",
    "- From the first index we will fetch the company with fastest growth rate and from last index we will fetch the company with slowest growth rate"
   ]
  },
  {
   "cell_type": "code",
   "execution_count": 246,
   "id": "5977fdc1",
   "metadata": {
    "scrolled": true
   },
   "outputs": [
    {
     "name": "stdout",
     "output_type": "stream",
     "text": [
      "Enter any one of the domains in the 'tags' field :finance\n"
     ]
    }
   ],
   "source": [
    "domain=input(\"Enter any one of the domains in the 'tags' field :\")"
   ]
  },
  {
   "cell_type": "code",
   "execution_count": 247,
   "id": "bf38cb5c",
   "metadata": {},
   "outputs": [],
   "source": [
    "df3=df"
   ]
  },
  {
   "cell_type": "code",
   "execution_count": 248,
   "id": "53f80116",
   "metadata": {},
   "outputs": [],
   "source": [
    "df3=df3[df3['tags'].apply(lambda x: domain in x)]"
   ]
  },
  {
   "cell_type": "code",
   "execution_count": 249,
   "id": "26b8acef",
   "metadata": {},
   "outputs": [
    {
     "data": {
      "text/plain": [
       "_id                 0\n",
       "tags                0\n",
       "companyName         0\n",
       "domainName          0\n",
       "crunchbase_url      0\n",
       "TYPE               65\n",
       "UpdatedOn           0\n",
       "companyDesc        11\n",
       "companyWebsite      4\n",
       "employeeNumber     26\n",
       "foundedDate        15\n",
       "domain_groups      26\n",
       "fundingList       214\n",
       "dtype: int64"
      ]
     },
     "execution_count": 249,
     "metadata": {},
     "output_type": "execute_result"
    }
   ],
   "source": [
    "df3.isnull().sum()"
   ]
  },
  {
   "cell_type": "code",
   "execution_count": 250,
   "id": "8e599d3b",
   "metadata": {},
   "outputs": [],
   "source": [
    "df3.dropna(subset=['foundedDate','UpdatedOn','employeeNumber'],axis=0,inplace=True)"
   ]
  },
  {
   "cell_type": "code",
   "execution_count": 251,
   "id": "15f7e0b3",
   "metadata": {},
   "outputs": [],
   "source": [
    "df3['UpdatedOn']=df3['UpdatedOn'].astype(str)"
   ]
  },
  {
   "cell_type": "code",
   "execution_count": 252,
   "id": "6e3710eb",
   "metadata": {},
   "outputs": [],
   "source": [
    "df3['UpdatedOn']=df3['UpdatedOn'].apply(lambda x:x[1:-1])"
   ]
  },
  {
   "cell_type": "code",
   "execution_count": 253,
   "id": "20b40dba",
   "metadata": {},
   "outputs": [],
   "source": [
    "df3['UpdatedOn']=df3['UpdatedOn'].apply(lambda x:x[8:])"
   ]
  },
  {
   "cell_type": "code",
   "execution_count": 254,
   "id": "c0268fa4",
   "metadata": {},
   "outputs": [],
   "source": [
    "df3['UpdatedOn'] = pd.to_datetime(df3['UpdatedOn'])"
   ]
  },
  {
   "cell_type": "code",
   "execution_count": 255,
   "id": "c4dada84",
   "metadata": {},
   "outputs": [],
   "source": [
    "df3['UpdatedOn']=df3['UpdatedOn'].dt.strftime('%Y-%m-%d')"
   ]
  },
  {
   "cell_type": "code",
   "execution_count": 256,
   "id": "6b588469",
   "metadata": {},
   "outputs": [],
   "source": [
    "df3['max_value'] = df3['employeeNumber'].apply(lambda x: x['max'])\n",
    "df3['min_value'] = df3['employeeNumber'].apply(lambda x: x['min'])"
   ]
  },
  {
   "cell_type": "code",
   "execution_count": 257,
   "id": "408b80ed",
   "metadata": {},
   "outputs": [],
   "source": [
    "df3['foundedDate'] = df3['foundedDate'].apply(lambda x: list(x.values())[0])"
   ]
  },
  {
   "cell_type": "code",
   "execution_count": 258,
   "id": "6548e110",
   "metadata": {},
   "outputs": [],
   "source": [
    "df3['foundedDate']=df3['foundedDate'].astype(str)"
   ]
  },
  {
   "cell_type": "code",
   "execution_count": 259,
   "id": "37f96a13",
   "metadata": {},
   "outputs": [],
   "source": [
    "df3['foundedDate']=df3['foundedDate'].apply(lambda x:x[17:-2] if x[2]==\"$\" else x)"
   ]
  },
  {
   "cell_type": "code",
   "execution_count": 260,
   "id": "fe62bc42",
   "metadata": {},
   "outputs": [],
   "source": [
    "from dateutil import parser\n",
    "import numpy as np"
   ]
  },
  {
   "cell_type": "code",
   "execution_count": 261,
   "id": "b31a282f",
   "metadata": {},
   "outputs": [],
   "source": [
    "def convert_to_date(value):\n",
    "    try:\n",
    "        timestamp = int(value)\n",
    "        return pd.to_datetime(timestamp // 1000, unit='s').date()\n",
    "    except ValueError:\n",
    "        return parser.parse(value).date()\n",
    "\n",
    "df3['foundedDate'] = df3['foundedDate'].apply(convert_to_date)"
   ]
  },
  {
   "cell_type": "code",
   "execution_count": 262,
   "id": "d4e0fbef",
   "metadata": {},
   "outputs": [
    {
     "data": {
      "text/html": [
       "<div>\n",
       "<style scoped>\n",
       "    .dataframe tbody tr th:only-of-type {\n",
       "        vertical-align: middle;\n",
       "    }\n",
       "\n",
       "    .dataframe tbody tr th {\n",
       "        vertical-align: top;\n",
       "    }\n",
       "\n",
       "    .dataframe thead th {\n",
       "        text-align: right;\n",
       "    }\n",
       "</style>\n",
       "<table border=\"1\" class=\"dataframe\">\n",
       "  <thead>\n",
       "    <tr style=\"text-align: right;\">\n",
       "      <th></th>\n",
       "      <th>_id</th>\n",
       "      <th>tags</th>\n",
       "      <th>companyName</th>\n",
       "      <th>domainName</th>\n",
       "      <th>crunchbase_url</th>\n",
       "      <th>TYPE</th>\n",
       "      <th>UpdatedOn</th>\n",
       "      <th>companyDesc</th>\n",
       "      <th>companyWebsite</th>\n",
       "      <th>employeeNumber</th>\n",
       "      <th>foundedDate</th>\n",
       "      <th>domain_groups</th>\n",
       "      <th>fundingList</th>\n",
       "      <th>max_value</th>\n",
       "      <th>min_value</th>\n",
       "    </tr>\n",
       "  </thead>\n",
       "  <tbody>\n",
       "    <tr>\n",
       "      <th>0</th>\n",
       "      <td>{'$oid': '5d09dfd68501d21d7d729bb1'}</td>\n",
       "      <td>[finance, insurance]</td>\n",
       "      <td>21st century insurance</td>\n",
       "      <td>21st</td>\n",
       "      <td>https://www.crunchbase.com/organization/21st-c...</td>\n",
       "      <td>Product-based</td>\n",
       "      <td>2020-01-18</td>\n",
       "      <td>since 1958, 21st century insurance has been de...</td>\n",
       "      <td>www.21st.com</td>\n",
       "      <td>{'max': 10000, 'min': 5001}</td>\n",
       "      <td>1958-01-01</td>\n",
       "      <td>{'Fintech/ Payments': 0.825334256973911, 'Insu...</td>\n",
       "      <td>NaN</td>\n",
       "      <td>10000</td>\n",
       "      <td>5001</td>\n",
       "    </tr>\n",
       "    <tr>\n",
       "      <th>24</th>\n",
       "      <td>{'$oid': '5d09dfda8501d21d7d729cf6'}</td>\n",
       "      <td>[advertising, e-commerce, finance, financial s...</td>\n",
       "      <td>aplazame</td>\n",
       "      <td>aplazame</td>\n",
       "      <td>https://www.crunchbase.com/organization/aplaza...</td>\n",
       "      <td>Product-based</td>\n",
       "      <td>2020-01-15</td>\n",
       "      <td>aplazame is a consumer credit company that pro...</td>\n",
       "      <td>aplazame.com/</td>\n",
       "      <td>{'max': 10, 'min': 1}</td>\n",
       "      <td>2014-07-29</td>\n",
       "      <td>{'Fintech/ Payments': 0.84731538782208}</td>\n",
       "      <td>[{'fundingDate': {'$date': '2017-10-18T09:00:0...</td>\n",
       "      <td>10</td>\n",
       "      <td>1</td>\n",
       "    </tr>\n",
       "    <tr>\n",
       "      <th>51</th>\n",
       "      <td>{'$oid': '5d09dfda8501d21d7d729d0a'}</td>\n",
       "      <td>[credit, finance, financial services]</td>\n",
       "      <td>applied data finance</td>\n",
       "      <td>applieddatafinance</td>\n",
       "      <td>https://www.crunchbase.com/organization/applie...</td>\n",
       "      <td>Product-based</td>\n",
       "      <td>2020-01-14</td>\n",
       "      <td>adf has been purpose-built to be the optimal l...</td>\n",
       "      <td>www.applieddatafinance.com/</td>\n",
       "      <td>{'max': 50, 'min': 11}</td>\n",
       "      <td>2014-01-01</td>\n",
       "      <td>{'Fintech/ Payments': 0.8984895836284621}</td>\n",
       "      <td>NaN</td>\n",
       "      <td>50</td>\n",
       "      <td>11</td>\n",
       "    </tr>\n",
       "    <tr>\n",
       "      <th>111</th>\n",
       "      <td>{'$oid': '5d09dfd88501d21d7d729c62'}</td>\n",
       "      <td>[finance, financial services, insurance, ventu...</td>\n",
       "      <td>aig property casualty apac region</td>\n",
       "      <td>aig</td>\n",
       "      <td>https://www.crunchbase.com/organization/americ...</td>\n",
       "      <td>Service-based</td>\n",
       "      <td>2020-01-22</td>\n",
       "      <td>aig traces its roots to 1919, when american co...</td>\n",
       "      <td>www.aig.com/</td>\n",
       "      <td>{'max': 10001, 'min': 0}</td>\n",
       "      <td>1919-12-19</td>\n",
       "      <td>{'Venture Capital': 0.845000858802138, 'Fintec...</td>\n",
       "      <td>NaN</td>\n",
       "      <td>10001</td>\n",
       "      <td>0</td>\n",
       "    </tr>\n",
       "    <tr>\n",
       "      <th>117</th>\n",
       "      <td>{'$oid': '5d09dfd98501d21d7d729c96'}</td>\n",
       "      <td>[banking, finance, insurance, venture capital]</td>\n",
       "      <td>allstate solutions</td>\n",
       "      <td>allstate</td>\n",
       "      <td>https://www.crunchbase.com/organization/allsta...</td>\n",
       "      <td>Product-based</td>\n",
       "      <td>2020-01-18</td>\n",
       "      <td>you are investing into the acquisition of an e...</td>\n",
       "      <td>www.allstate.com</td>\n",
       "      <td>{'max': 10, 'min': 1}</td>\n",
       "      <td>2008-01-01</td>\n",
       "      <td>{'Venture Capital': 0.841467101649744, 'Fintec...</td>\n",
       "      <td>[{'fundingDate': {'$date': '2014-01-13T09:00:0...</td>\n",
       "      <td>10</td>\n",
       "      <td>1</td>\n",
       "    </tr>\n",
       "  </tbody>\n",
       "</table>\n",
       "</div>"
      ],
      "text/plain": [
       "                                      _id  \\\n",
       "0    {'$oid': '5d09dfd68501d21d7d729bb1'}   \n",
       "24   {'$oid': '5d09dfda8501d21d7d729cf6'}   \n",
       "51   {'$oid': '5d09dfda8501d21d7d729d0a'}   \n",
       "111  {'$oid': '5d09dfd88501d21d7d729c62'}   \n",
       "117  {'$oid': '5d09dfd98501d21d7d729c96'}   \n",
       "\n",
       "                                                  tags  \\\n",
       "0                                 [finance, insurance]   \n",
       "24   [advertising, e-commerce, finance, financial s...   \n",
       "51               [credit, finance, financial services]   \n",
       "111  [finance, financial services, insurance, ventu...   \n",
       "117     [banking, finance, insurance, venture capital]   \n",
       "\n",
       "                           companyName          domainName  \\\n",
       "0               21st century insurance                21st   \n",
       "24                            aplazame            aplazame   \n",
       "51                applied data finance  applieddatafinance   \n",
       "111  aig property casualty apac region                 aig   \n",
       "117                 allstate solutions            allstate   \n",
       "\n",
       "                                        crunchbase_url           TYPE  \\\n",
       "0    https://www.crunchbase.com/organization/21st-c...  Product-based   \n",
       "24   https://www.crunchbase.com/organization/aplaza...  Product-based   \n",
       "51   https://www.crunchbase.com/organization/applie...  Product-based   \n",
       "111  https://www.crunchbase.com/organization/americ...  Service-based   \n",
       "117  https://www.crunchbase.com/organization/allsta...  Product-based   \n",
       "\n",
       "      UpdatedOn                                        companyDesc  \\\n",
       "0    2020-01-18  since 1958, 21st century insurance has been de...   \n",
       "24   2020-01-15  aplazame is a consumer credit company that pro...   \n",
       "51   2020-01-14  adf has been purpose-built to be the optimal l...   \n",
       "111  2020-01-22  aig traces its roots to 1919, when american co...   \n",
       "117  2020-01-18  you are investing into the acquisition of an e...   \n",
       "\n",
       "                  companyWebsite               employeeNumber foundedDate  \\\n",
       "0                   www.21st.com  {'max': 10000, 'min': 5001}  1958-01-01   \n",
       "24                 aplazame.com/        {'max': 10, 'min': 1}  2014-07-29   \n",
       "51   www.applieddatafinance.com/       {'max': 50, 'min': 11}  2014-01-01   \n",
       "111                 www.aig.com/     {'max': 10001, 'min': 0}  1919-12-19   \n",
       "117             www.allstate.com        {'max': 10, 'min': 1}  2008-01-01   \n",
       "\n",
       "                                         domain_groups  \\\n",
       "0    {'Fintech/ Payments': 0.825334256973911, 'Insu...   \n",
       "24             {'Fintech/ Payments': 0.84731538782208}   \n",
       "51           {'Fintech/ Payments': 0.8984895836284621}   \n",
       "111  {'Venture Capital': 0.845000858802138, 'Fintec...   \n",
       "117  {'Venture Capital': 0.841467101649744, 'Fintec...   \n",
       "\n",
       "                                           fundingList  max_value  min_value  \n",
       "0                                                  NaN      10000       5001  \n",
       "24   [{'fundingDate': {'$date': '2017-10-18T09:00:0...         10          1  \n",
       "51                                                 NaN         50         11  \n",
       "111                                                NaN      10001          0  \n",
       "117  [{'fundingDate': {'$date': '2014-01-13T09:00:0...         10          1  "
      ]
     },
     "execution_count": 262,
     "metadata": {},
     "output_type": "execute_result"
    }
   ],
   "source": [
    "df3.head()"
   ]
  },
  {
   "cell_type": "code",
   "execution_count": 263,
   "id": "a90711df",
   "metadata": {},
   "outputs": [],
   "source": [
    "df3['UpdatedOn'] = pd.to_datetime(df3['UpdatedOn'])\n",
    "df3['foundedDate'] = pd.to_datetime(df3['foundedDate'])"
   ]
  },
  {
   "cell_type": "code",
   "execution_count": 264,
   "id": "46cbc9f5",
   "metadata": {},
   "outputs": [],
   "source": [
    "df3['days_difference'] = df3.apply(lambda row: (row['foundedDate'].date() - row['UpdatedOn'].date()).days\n",
    "                                 if row['foundedDate'] >= row['UpdatedOn']\n",
    "                                 else (row['UpdatedOn'].date() - row['foundedDate'].date()).days,\n",
    "                                 axis=1)"
   ]
  },
  {
   "cell_type": "code",
   "execution_count": 265,
   "id": "fde03129",
   "metadata": {},
   "outputs": [],
   "source": [
    "df3['Ratio']=df3['max_value']/df3['days_difference']"
   ]
  },
  {
   "cell_type": "code",
   "execution_count": 266,
   "id": "0f24870a",
   "metadata": {},
   "outputs": [],
   "source": [
    "df_sorted = df3.sort_values(by='Ratio', ascending=False)"
   ]
  },
  {
   "cell_type": "code",
   "execution_count": 267,
   "id": "ac2e1f23",
   "metadata": {},
   "outputs": [
    {
     "data": {
      "text/plain": [
       "(280, 17)"
      ]
     },
     "execution_count": 267,
     "metadata": {},
     "output_type": "execute_result"
    }
   ],
   "source": [
    "df_sorted.shape"
   ]
  },
  {
   "cell_type": "markdown",
   "id": "7c18ca61",
   "metadata": {},
   "source": [
    "##### Answer"
   ]
  },
  {
   "cell_type": "code",
   "execution_count": 268,
   "id": "876744f2",
   "metadata": {},
   "outputs": [
    {
     "name": "stdout",
     "output_type": "stream",
     "text": [
      "Company with fastest growth rate is :bandhan bank\n",
      "Company with slowest growth rate is :zions bank\n"
     ]
    }
   ],
   "source": [
    "if df_sorted.shape[0]==0:\n",
    "    print(\"No company is there with fastest and slowest growth rate and this may be because the input of domain given is not present in dataset\")\n",
    "elif df_sorted.shape[0]==1:\n",
    "    fastest_growing_company=df_sorted.iloc[0]['companyName']\n",
    "    print(\"Company with fastest and slowest growth rate is :\"+fastest_growing_company)\n",
    "else:\n",
    "    fastest_growing_company=df_sorted.iloc[0]['companyName']\n",
    "    slowest_growing_company=df_sorted.iloc[df_sorted.shape[0]-1]['companyName']\n",
    "    print(\"Company with fastest growth rate is :\"+fastest_growing_company)\n",
    "    print(\"Company with slowest growth rate is :\"+slowest_growing_company)"
   ]
  },
  {
   "cell_type": "code",
   "execution_count": null,
   "id": "4d443bb2",
   "metadata": {},
   "outputs": [],
   "source": []
  },
  {
   "cell_type": "code",
   "execution_count": null,
   "id": "03f92e0d",
   "metadata": {},
   "outputs": [],
   "source": []
  },
  {
   "cell_type": "markdown",
   "id": "8c9a24ae",
   "metadata": {},
   "source": [
    "# Some other analysis"
   ]
  },
  {
   "cell_type": "markdown",
   "id": "5a8e81cf",
   "metadata": {},
   "source": [
    "#### Find how many companies are service based and how many are product based"
   ]
  },
  {
   "cell_type": "code",
   "execution_count": 269,
   "id": "5c357f15",
   "metadata": {},
   "outputs": [],
   "source": [
    "df4=df"
   ]
  },
  {
   "cell_type": "code",
   "execution_count": 270,
   "id": "dd99d00e",
   "metadata": {},
   "outputs": [
    {
     "data": {
      "text/plain": [
       "1300"
      ]
     },
     "execution_count": 270,
     "metadata": {},
     "output_type": "execute_result"
    }
   ],
   "source": [
    "df4['TYPE'].isnull().sum()"
   ]
  },
  {
   "cell_type": "code",
   "execution_count": 271,
   "id": "c95592f9",
   "metadata": {},
   "outputs": [],
   "source": [
    "df4.dropna(subset=['TYPE'],axis=0,inplace=True)"
   ]
  },
  {
   "cell_type": "code",
   "execution_count": 272,
   "id": "4e05e080",
   "metadata": {},
   "outputs": [],
   "source": [
    "df4['TYPE']=df4['TYPE'].astype(str)"
   ]
  },
  {
   "cell_type": "code",
   "execution_count": 273,
   "id": "f9b32765",
   "metadata": {},
   "outputs": [],
   "source": [
    "new_df=df4[\"TYPE\"].value_counts().reset_index().rename(columns={\"index\":\"TYPE\",\n",
    "                                                                        \"TYPE\":\"No_of_Company_with_type\"})"
   ]
  },
  {
   "cell_type": "code",
   "execution_count": 274,
   "id": "86f19f55",
   "metadata": {
    "scrolled": false
   },
   "outputs": [
    {
     "data": {
      "application/vnd.plotly.v1+json": {
       "config": {
        "plotlyServerURL": "https://plot.ly"
       },
       "data": [
        {
         "domain": {
          "x": [
           0,
           1
          ],
          "y": [
           0,
           1
          ]
         },
         "hovertemplate": "TYPE=%{label}<br>No_of_Company_with_type=%{value}<extra></extra>",
         "labels": [
          "Product-based",
          "Service-based"
         ],
         "legendgroup": "",
         "name": "",
         "showlegend": true,
         "type": "pie",
         "values": [
          4465,
          1632
         ]
        }
       ],
       "layout": {
        "legend": {
         "tracegroupgap": 0
        },
        "margin": {
         "t": 60
        },
        "template": {
         "data": {
          "bar": [
           {
            "error_x": {
             "color": "#2a3f5f"
            },
            "error_y": {
             "color": "#2a3f5f"
            },
            "marker": {
             "line": {
              "color": "#E5ECF6",
              "width": 0.5
             },
             "pattern": {
              "fillmode": "overlay",
              "size": 10,
              "solidity": 0.2
             }
            },
            "type": "bar"
           }
          ],
          "barpolar": [
           {
            "marker": {
             "line": {
              "color": "#E5ECF6",
              "width": 0.5
             },
             "pattern": {
              "fillmode": "overlay",
              "size": 10,
              "solidity": 0.2
             }
            },
            "type": "barpolar"
           }
          ],
          "carpet": [
           {
            "aaxis": {
             "endlinecolor": "#2a3f5f",
             "gridcolor": "white",
             "linecolor": "white",
             "minorgridcolor": "white",
             "startlinecolor": "#2a3f5f"
            },
            "baxis": {
             "endlinecolor": "#2a3f5f",
             "gridcolor": "white",
             "linecolor": "white",
             "minorgridcolor": "white",
             "startlinecolor": "#2a3f5f"
            },
            "type": "carpet"
           }
          ],
          "choropleth": [
           {
            "colorbar": {
             "outlinewidth": 0,
             "ticks": ""
            },
            "type": "choropleth"
           }
          ],
          "contour": [
           {
            "colorbar": {
             "outlinewidth": 0,
             "ticks": ""
            },
            "colorscale": [
             [
              0,
              "#0d0887"
             ],
             [
              0.1111111111111111,
              "#46039f"
             ],
             [
              0.2222222222222222,
              "#7201a8"
             ],
             [
              0.3333333333333333,
              "#9c179e"
             ],
             [
              0.4444444444444444,
              "#bd3786"
             ],
             [
              0.5555555555555556,
              "#d8576b"
             ],
             [
              0.6666666666666666,
              "#ed7953"
             ],
             [
              0.7777777777777778,
              "#fb9f3a"
             ],
             [
              0.8888888888888888,
              "#fdca26"
             ],
             [
              1,
              "#f0f921"
             ]
            ],
            "type": "contour"
           }
          ],
          "contourcarpet": [
           {
            "colorbar": {
             "outlinewidth": 0,
             "ticks": ""
            },
            "type": "contourcarpet"
           }
          ],
          "heatmap": [
           {
            "colorbar": {
             "outlinewidth": 0,
             "ticks": ""
            },
            "colorscale": [
             [
              0,
              "#0d0887"
             ],
             [
              0.1111111111111111,
              "#46039f"
             ],
             [
              0.2222222222222222,
              "#7201a8"
             ],
             [
              0.3333333333333333,
              "#9c179e"
             ],
             [
              0.4444444444444444,
              "#bd3786"
             ],
             [
              0.5555555555555556,
              "#d8576b"
             ],
             [
              0.6666666666666666,
              "#ed7953"
             ],
             [
              0.7777777777777778,
              "#fb9f3a"
             ],
             [
              0.8888888888888888,
              "#fdca26"
             ],
             [
              1,
              "#f0f921"
             ]
            ],
            "type": "heatmap"
           }
          ],
          "heatmapgl": [
           {
            "colorbar": {
             "outlinewidth": 0,
             "ticks": ""
            },
            "colorscale": [
             [
              0,
              "#0d0887"
             ],
             [
              0.1111111111111111,
              "#46039f"
             ],
             [
              0.2222222222222222,
              "#7201a8"
             ],
             [
              0.3333333333333333,
              "#9c179e"
             ],
             [
              0.4444444444444444,
              "#bd3786"
             ],
             [
              0.5555555555555556,
              "#d8576b"
             ],
             [
              0.6666666666666666,
              "#ed7953"
             ],
             [
              0.7777777777777778,
              "#fb9f3a"
             ],
             [
              0.8888888888888888,
              "#fdca26"
             ],
             [
              1,
              "#f0f921"
             ]
            ],
            "type": "heatmapgl"
           }
          ],
          "histogram": [
           {
            "marker": {
             "pattern": {
              "fillmode": "overlay",
              "size": 10,
              "solidity": 0.2
             }
            },
            "type": "histogram"
           }
          ],
          "histogram2d": [
           {
            "colorbar": {
             "outlinewidth": 0,
             "ticks": ""
            },
            "colorscale": [
             [
              0,
              "#0d0887"
             ],
             [
              0.1111111111111111,
              "#46039f"
             ],
             [
              0.2222222222222222,
              "#7201a8"
             ],
             [
              0.3333333333333333,
              "#9c179e"
             ],
             [
              0.4444444444444444,
              "#bd3786"
             ],
             [
              0.5555555555555556,
              "#d8576b"
             ],
             [
              0.6666666666666666,
              "#ed7953"
             ],
             [
              0.7777777777777778,
              "#fb9f3a"
             ],
             [
              0.8888888888888888,
              "#fdca26"
             ],
             [
              1,
              "#f0f921"
             ]
            ],
            "type": "histogram2d"
           }
          ],
          "histogram2dcontour": [
           {
            "colorbar": {
             "outlinewidth": 0,
             "ticks": ""
            },
            "colorscale": [
             [
              0,
              "#0d0887"
             ],
             [
              0.1111111111111111,
              "#46039f"
             ],
             [
              0.2222222222222222,
              "#7201a8"
             ],
             [
              0.3333333333333333,
              "#9c179e"
             ],
             [
              0.4444444444444444,
              "#bd3786"
             ],
             [
              0.5555555555555556,
              "#d8576b"
             ],
             [
              0.6666666666666666,
              "#ed7953"
             ],
             [
              0.7777777777777778,
              "#fb9f3a"
             ],
             [
              0.8888888888888888,
              "#fdca26"
             ],
             [
              1,
              "#f0f921"
             ]
            ],
            "type": "histogram2dcontour"
           }
          ],
          "mesh3d": [
           {
            "colorbar": {
             "outlinewidth": 0,
             "ticks": ""
            },
            "type": "mesh3d"
           }
          ],
          "parcoords": [
           {
            "line": {
             "colorbar": {
              "outlinewidth": 0,
              "ticks": ""
             }
            },
            "type": "parcoords"
           }
          ],
          "pie": [
           {
            "automargin": true,
            "type": "pie"
           }
          ],
          "scatter": [
           {
            "marker": {
             "colorbar": {
              "outlinewidth": 0,
              "ticks": ""
             }
            },
            "type": "scatter"
           }
          ],
          "scatter3d": [
           {
            "line": {
             "colorbar": {
              "outlinewidth": 0,
              "ticks": ""
             }
            },
            "marker": {
             "colorbar": {
              "outlinewidth": 0,
              "ticks": ""
             }
            },
            "type": "scatter3d"
           }
          ],
          "scattercarpet": [
           {
            "marker": {
             "colorbar": {
              "outlinewidth": 0,
              "ticks": ""
             }
            },
            "type": "scattercarpet"
           }
          ],
          "scattergeo": [
           {
            "marker": {
             "colorbar": {
              "outlinewidth": 0,
              "ticks": ""
             }
            },
            "type": "scattergeo"
           }
          ],
          "scattergl": [
           {
            "marker": {
             "colorbar": {
              "outlinewidth": 0,
              "ticks": ""
             }
            },
            "type": "scattergl"
           }
          ],
          "scattermapbox": [
           {
            "marker": {
             "colorbar": {
              "outlinewidth": 0,
              "ticks": ""
             }
            },
            "type": "scattermapbox"
           }
          ],
          "scatterpolar": [
           {
            "marker": {
             "colorbar": {
              "outlinewidth": 0,
              "ticks": ""
             }
            },
            "type": "scatterpolar"
           }
          ],
          "scatterpolargl": [
           {
            "marker": {
             "colorbar": {
              "outlinewidth": 0,
              "ticks": ""
             }
            },
            "type": "scatterpolargl"
           }
          ],
          "scatterternary": [
           {
            "marker": {
             "colorbar": {
              "outlinewidth": 0,
              "ticks": ""
             }
            },
            "type": "scatterternary"
           }
          ],
          "surface": [
           {
            "colorbar": {
             "outlinewidth": 0,
             "ticks": ""
            },
            "colorscale": [
             [
              0,
              "#0d0887"
             ],
             [
              0.1111111111111111,
              "#46039f"
             ],
             [
              0.2222222222222222,
              "#7201a8"
             ],
             [
              0.3333333333333333,
              "#9c179e"
             ],
             [
              0.4444444444444444,
              "#bd3786"
             ],
             [
              0.5555555555555556,
              "#d8576b"
             ],
             [
              0.6666666666666666,
              "#ed7953"
             ],
             [
              0.7777777777777778,
              "#fb9f3a"
             ],
             [
              0.8888888888888888,
              "#fdca26"
             ],
             [
              1,
              "#f0f921"
             ]
            ],
            "type": "surface"
           }
          ],
          "table": [
           {
            "cells": {
             "fill": {
              "color": "#EBF0F8"
             },
             "line": {
              "color": "white"
             }
            },
            "header": {
             "fill": {
              "color": "#C8D4E3"
             },
             "line": {
              "color": "white"
             }
            },
            "type": "table"
           }
          ]
         },
         "layout": {
          "annotationdefaults": {
           "arrowcolor": "#2a3f5f",
           "arrowhead": 0,
           "arrowwidth": 1
          },
          "autotypenumbers": "strict",
          "coloraxis": {
           "colorbar": {
            "outlinewidth": 0,
            "ticks": ""
           }
          },
          "colorscale": {
           "diverging": [
            [
             0,
             "#8e0152"
            ],
            [
             0.1,
             "#c51b7d"
            ],
            [
             0.2,
             "#de77ae"
            ],
            [
             0.3,
             "#f1b6da"
            ],
            [
             0.4,
             "#fde0ef"
            ],
            [
             0.5,
             "#f7f7f7"
            ],
            [
             0.6,
             "#e6f5d0"
            ],
            [
             0.7,
             "#b8e186"
            ],
            [
             0.8,
             "#7fbc41"
            ],
            [
             0.9,
             "#4d9221"
            ],
            [
             1,
             "#276419"
            ]
           ],
           "sequential": [
            [
             0,
             "#0d0887"
            ],
            [
             0.1111111111111111,
             "#46039f"
            ],
            [
             0.2222222222222222,
             "#7201a8"
            ],
            [
             0.3333333333333333,
             "#9c179e"
            ],
            [
             0.4444444444444444,
             "#bd3786"
            ],
            [
             0.5555555555555556,
             "#d8576b"
            ],
            [
             0.6666666666666666,
             "#ed7953"
            ],
            [
             0.7777777777777778,
             "#fb9f3a"
            ],
            [
             0.8888888888888888,
             "#fdca26"
            ],
            [
             1,
             "#f0f921"
            ]
           ],
           "sequentialminus": [
            [
             0,
             "#0d0887"
            ],
            [
             0.1111111111111111,
             "#46039f"
            ],
            [
             0.2222222222222222,
             "#7201a8"
            ],
            [
             0.3333333333333333,
             "#9c179e"
            ],
            [
             0.4444444444444444,
             "#bd3786"
            ],
            [
             0.5555555555555556,
             "#d8576b"
            ],
            [
             0.6666666666666666,
             "#ed7953"
            ],
            [
             0.7777777777777778,
             "#fb9f3a"
            ],
            [
             0.8888888888888888,
             "#fdca26"
            ],
            [
             1,
             "#f0f921"
            ]
           ]
          },
          "colorway": [
           "#636efa",
           "#EF553B",
           "#00cc96",
           "#ab63fa",
           "#FFA15A",
           "#19d3f3",
           "#FF6692",
           "#B6E880",
           "#FF97FF",
           "#FECB52"
          ],
          "font": {
           "color": "#2a3f5f"
          },
          "geo": {
           "bgcolor": "white",
           "lakecolor": "white",
           "landcolor": "#E5ECF6",
           "showlakes": true,
           "showland": true,
           "subunitcolor": "white"
          },
          "hoverlabel": {
           "align": "left"
          },
          "hovermode": "closest",
          "mapbox": {
           "style": "light"
          },
          "paper_bgcolor": "white",
          "plot_bgcolor": "#E5ECF6",
          "polar": {
           "angularaxis": {
            "gridcolor": "white",
            "linecolor": "white",
            "ticks": ""
           },
           "bgcolor": "#E5ECF6",
           "radialaxis": {
            "gridcolor": "white",
            "linecolor": "white",
            "ticks": ""
           }
          },
          "scene": {
           "xaxis": {
            "backgroundcolor": "#E5ECF6",
            "gridcolor": "white",
            "gridwidth": 2,
            "linecolor": "white",
            "showbackground": true,
            "ticks": "",
            "zerolinecolor": "white"
           },
           "yaxis": {
            "backgroundcolor": "#E5ECF6",
            "gridcolor": "white",
            "gridwidth": 2,
            "linecolor": "white",
            "showbackground": true,
            "ticks": "",
            "zerolinecolor": "white"
           },
           "zaxis": {
            "backgroundcolor": "#E5ECF6",
            "gridcolor": "white",
            "gridwidth": 2,
            "linecolor": "white",
            "showbackground": true,
            "ticks": "",
            "zerolinecolor": "white"
           }
          },
          "shapedefaults": {
           "line": {
            "color": "#2a3f5f"
           }
          },
          "ternary": {
           "aaxis": {
            "gridcolor": "white",
            "linecolor": "white",
            "ticks": ""
           },
           "baxis": {
            "gridcolor": "white",
            "linecolor": "white",
            "ticks": ""
           },
           "bgcolor": "#E5ECF6",
           "caxis": {
            "gridcolor": "white",
            "linecolor": "white",
            "ticks": ""
           }
          },
          "title": {
           "x": 0.05
          },
          "xaxis": {
           "automargin": true,
           "gridcolor": "white",
           "linecolor": "white",
           "ticks": "",
           "title": {
            "standoff": 15
           },
           "zerolinecolor": "white",
           "zerolinewidth": 2
          },
          "yaxis": {
           "automargin": true,
           "gridcolor": "white",
           "linecolor": "white",
           "ticks": "",
           "title": {
            "standoff": 15
           },
           "zerolinecolor": "white",
           "zerolinewidth": 2
          }
         }
        }
       }
      },
      "text/html": [
       "<div>                            <div id=\"55ea83d5-c1a3-4513-8fce-c8546406b8fb\" class=\"plotly-graph-div\" style=\"height:525px; width:100%;\"></div>            <script type=\"text/javascript\">                require([\"plotly\"], function(Plotly) {                    window.PLOTLYENV=window.PLOTLYENV || {};                                    if (document.getElementById(\"55ea83d5-c1a3-4513-8fce-c8546406b8fb\")) {                    Plotly.newPlot(                        \"55ea83d5-c1a3-4513-8fce-c8546406b8fb\",                        [{\"domain\":{\"x\":[0.0,1.0],\"y\":[0.0,1.0]},\"hovertemplate\":\"TYPE=%{label}<br>No_of_Company_with_type=%{value}<extra></extra>\",\"labels\":[\"Product-based\",\"Service-based\"],\"legendgroup\":\"\",\"name\":\"\",\"showlegend\":true,\"values\":[4465,1632],\"type\":\"pie\"}],                        {\"template\":{\"data\":{\"bar\":[{\"error_x\":{\"color\":\"#2a3f5f\"},\"error_y\":{\"color\":\"#2a3f5f\"},\"marker\":{\"line\":{\"color\":\"#E5ECF6\",\"width\":0.5},\"pattern\":{\"fillmode\":\"overlay\",\"size\":10,\"solidity\":0.2}},\"type\":\"bar\"}],\"barpolar\":[{\"marker\":{\"line\":{\"color\":\"#E5ECF6\",\"width\":0.5},\"pattern\":{\"fillmode\":\"overlay\",\"size\":10,\"solidity\":0.2}},\"type\":\"barpolar\"}],\"carpet\":[{\"aaxis\":{\"endlinecolor\":\"#2a3f5f\",\"gridcolor\":\"white\",\"linecolor\":\"white\",\"minorgridcolor\":\"white\",\"startlinecolor\":\"#2a3f5f\"},\"baxis\":{\"endlinecolor\":\"#2a3f5f\",\"gridcolor\":\"white\",\"linecolor\":\"white\",\"minorgridcolor\":\"white\",\"startlinecolor\":\"#2a3f5f\"},\"type\":\"carpet\"}],\"choropleth\":[{\"colorbar\":{\"outlinewidth\":0,\"ticks\":\"\"},\"type\":\"choropleth\"}],\"contour\":[{\"colorbar\":{\"outlinewidth\":0,\"ticks\":\"\"},\"colorscale\":[[0.0,\"#0d0887\"],[0.1111111111111111,\"#46039f\"],[0.2222222222222222,\"#7201a8\"],[0.3333333333333333,\"#9c179e\"],[0.4444444444444444,\"#bd3786\"],[0.5555555555555556,\"#d8576b\"],[0.6666666666666666,\"#ed7953\"],[0.7777777777777778,\"#fb9f3a\"],[0.8888888888888888,\"#fdca26\"],[1.0,\"#f0f921\"]],\"type\":\"contour\"}],\"contourcarpet\":[{\"colorbar\":{\"outlinewidth\":0,\"ticks\":\"\"},\"type\":\"contourcarpet\"}],\"heatmap\":[{\"colorbar\":{\"outlinewidth\":0,\"ticks\":\"\"},\"colorscale\":[[0.0,\"#0d0887\"],[0.1111111111111111,\"#46039f\"],[0.2222222222222222,\"#7201a8\"],[0.3333333333333333,\"#9c179e\"],[0.4444444444444444,\"#bd3786\"],[0.5555555555555556,\"#d8576b\"],[0.6666666666666666,\"#ed7953\"],[0.7777777777777778,\"#fb9f3a\"],[0.8888888888888888,\"#fdca26\"],[1.0,\"#f0f921\"]],\"type\":\"heatmap\"}],\"heatmapgl\":[{\"colorbar\":{\"outlinewidth\":0,\"ticks\":\"\"},\"colorscale\":[[0.0,\"#0d0887\"],[0.1111111111111111,\"#46039f\"],[0.2222222222222222,\"#7201a8\"],[0.3333333333333333,\"#9c179e\"],[0.4444444444444444,\"#bd3786\"],[0.5555555555555556,\"#d8576b\"],[0.6666666666666666,\"#ed7953\"],[0.7777777777777778,\"#fb9f3a\"],[0.8888888888888888,\"#fdca26\"],[1.0,\"#f0f921\"]],\"type\":\"heatmapgl\"}],\"histogram\":[{\"marker\":{\"pattern\":{\"fillmode\":\"overlay\",\"size\":10,\"solidity\":0.2}},\"type\":\"histogram\"}],\"histogram2d\":[{\"colorbar\":{\"outlinewidth\":0,\"ticks\":\"\"},\"colorscale\":[[0.0,\"#0d0887\"],[0.1111111111111111,\"#46039f\"],[0.2222222222222222,\"#7201a8\"],[0.3333333333333333,\"#9c179e\"],[0.4444444444444444,\"#bd3786\"],[0.5555555555555556,\"#d8576b\"],[0.6666666666666666,\"#ed7953\"],[0.7777777777777778,\"#fb9f3a\"],[0.8888888888888888,\"#fdca26\"],[1.0,\"#f0f921\"]],\"type\":\"histogram2d\"}],\"histogram2dcontour\":[{\"colorbar\":{\"outlinewidth\":0,\"ticks\":\"\"},\"colorscale\":[[0.0,\"#0d0887\"],[0.1111111111111111,\"#46039f\"],[0.2222222222222222,\"#7201a8\"],[0.3333333333333333,\"#9c179e\"],[0.4444444444444444,\"#bd3786\"],[0.5555555555555556,\"#d8576b\"],[0.6666666666666666,\"#ed7953\"],[0.7777777777777778,\"#fb9f3a\"],[0.8888888888888888,\"#fdca26\"],[1.0,\"#f0f921\"]],\"type\":\"histogram2dcontour\"}],\"mesh3d\":[{\"colorbar\":{\"outlinewidth\":0,\"ticks\":\"\"},\"type\":\"mesh3d\"}],\"parcoords\":[{\"line\":{\"colorbar\":{\"outlinewidth\":0,\"ticks\":\"\"}},\"type\":\"parcoords\"}],\"pie\":[{\"automargin\":true,\"type\":\"pie\"}],\"scatter\":[{\"marker\":{\"colorbar\":{\"outlinewidth\":0,\"ticks\":\"\"}},\"type\":\"scatter\"}],\"scatter3d\":[{\"line\":{\"colorbar\":{\"outlinewidth\":0,\"ticks\":\"\"}},\"marker\":{\"colorbar\":{\"outlinewidth\":0,\"ticks\":\"\"}},\"type\":\"scatter3d\"}],\"scattercarpet\":[{\"marker\":{\"colorbar\":{\"outlinewidth\":0,\"ticks\":\"\"}},\"type\":\"scattercarpet\"}],\"scattergeo\":[{\"marker\":{\"colorbar\":{\"outlinewidth\":0,\"ticks\":\"\"}},\"type\":\"scattergeo\"}],\"scattergl\":[{\"marker\":{\"colorbar\":{\"outlinewidth\":0,\"ticks\":\"\"}},\"type\":\"scattergl\"}],\"scattermapbox\":[{\"marker\":{\"colorbar\":{\"outlinewidth\":0,\"ticks\":\"\"}},\"type\":\"scattermapbox\"}],\"scatterpolar\":[{\"marker\":{\"colorbar\":{\"outlinewidth\":0,\"ticks\":\"\"}},\"type\":\"scatterpolar\"}],\"scatterpolargl\":[{\"marker\":{\"colorbar\":{\"outlinewidth\":0,\"ticks\":\"\"}},\"type\":\"scatterpolargl\"}],\"scatterternary\":[{\"marker\":{\"colorbar\":{\"outlinewidth\":0,\"ticks\":\"\"}},\"type\":\"scatterternary\"}],\"surface\":[{\"colorbar\":{\"outlinewidth\":0,\"ticks\":\"\"},\"colorscale\":[[0.0,\"#0d0887\"],[0.1111111111111111,\"#46039f\"],[0.2222222222222222,\"#7201a8\"],[0.3333333333333333,\"#9c179e\"],[0.4444444444444444,\"#bd3786\"],[0.5555555555555556,\"#d8576b\"],[0.6666666666666666,\"#ed7953\"],[0.7777777777777778,\"#fb9f3a\"],[0.8888888888888888,\"#fdca26\"],[1.0,\"#f0f921\"]],\"type\":\"surface\"}],\"table\":[{\"cells\":{\"fill\":{\"color\":\"#EBF0F8\"},\"line\":{\"color\":\"white\"}},\"header\":{\"fill\":{\"color\":\"#C8D4E3\"},\"line\":{\"color\":\"white\"}},\"type\":\"table\"}]},\"layout\":{\"annotationdefaults\":{\"arrowcolor\":\"#2a3f5f\",\"arrowhead\":0,\"arrowwidth\":1},\"autotypenumbers\":\"strict\",\"coloraxis\":{\"colorbar\":{\"outlinewidth\":0,\"ticks\":\"\"}},\"colorscale\":{\"diverging\":[[0,\"#8e0152\"],[0.1,\"#c51b7d\"],[0.2,\"#de77ae\"],[0.3,\"#f1b6da\"],[0.4,\"#fde0ef\"],[0.5,\"#f7f7f7\"],[0.6,\"#e6f5d0\"],[0.7,\"#b8e186\"],[0.8,\"#7fbc41\"],[0.9,\"#4d9221\"],[1,\"#276419\"]],\"sequential\":[[0.0,\"#0d0887\"],[0.1111111111111111,\"#46039f\"],[0.2222222222222222,\"#7201a8\"],[0.3333333333333333,\"#9c179e\"],[0.4444444444444444,\"#bd3786\"],[0.5555555555555556,\"#d8576b\"],[0.6666666666666666,\"#ed7953\"],[0.7777777777777778,\"#fb9f3a\"],[0.8888888888888888,\"#fdca26\"],[1.0,\"#f0f921\"]],\"sequentialminus\":[[0.0,\"#0d0887\"],[0.1111111111111111,\"#46039f\"],[0.2222222222222222,\"#7201a8\"],[0.3333333333333333,\"#9c179e\"],[0.4444444444444444,\"#bd3786\"],[0.5555555555555556,\"#d8576b\"],[0.6666666666666666,\"#ed7953\"],[0.7777777777777778,\"#fb9f3a\"],[0.8888888888888888,\"#fdca26\"],[1.0,\"#f0f921\"]]},\"colorway\":[\"#636efa\",\"#EF553B\",\"#00cc96\",\"#ab63fa\",\"#FFA15A\",\"#19d3f3\",\"#FF6692\",\"#B6E880\",\"#FF97FF\",\"#FECB52\"],\"font\":{\"color\":\"#2a3f5f\"},\"geo\":{\"bgcolor\":\"white\",\"lakecolor\":\"white\",\"landcolor\":\"#E5ECF6\",\"showlakes\":true,\"showland\":true,\"subunitcolor\":\"white\"},\"hoverlabel\":{\"align\":\"left\"},\"hovermode\":\"closest\",\"mapbox\":{\"style\":\"light\"},\"paper_bgcolor\":\"white\",\"plot_bgcolor\":\"#E5ECF6\",\"polar\":{\"angularaxis\":{\"gridcolor\":\"white\",\"linecolor\":\"white\",\"ticks\":\"\"},\"bgcolor\":\"#E5ECF6\",\"radialaxis\":{\"gridcolor\":\"white\",\"linecolor\":\"white\",\"ticks\":\"\"}},\"scene\":{\"xaxis\":{\"backgroundcolor\":\"#E5ECF6\",\"gridcolor\":\"white\",\"gridwidth\":2,\"linecolor\":\"white\",\"showbackground\":true,\"ticks\":\"\",\"zerolinecolor\":\"white\"},\"yaxis\":{\"backgroundcolor\":\"#E5ECF6\",\"gridcolor\":\"white\",\"gridwidth\":2,\"linecolor\":\"white\",\"showbackground\":true,\"ticks\":\"\",\"zerolinecolor\":\"white\"},\"zaxis\":{\"backgroundcolor\":\"#E5ECF6\",\"gridcolor\":\"white\",\"gridwidth\":2,\"linecolor\":\"white\",\"showbackground\":true,\"ticks\":\"\",\"zerolinecolor\":\"white\"}},\"shapedefaults\":{\"line\":{\"color\":\"#2a3f5f\"}},\"ternary\":{\"aaxis\":{\"gridcolor\":\"white\",\"linecolor\":\"white\",\"ticks\":\"\"},\"baxis\":{\"gridcolor\":\"white\",\"linecolor\":\"white\",\"ticks\":\"\"},\"bgcolor\":\"#E5ECF6\",\"caxis\":{\"gridcolor\":\"white\",\"linecolor\":\"white\",\"ticks\":\"\"}},\"title\":{\"x\":0.05},\"xaxis\":{\"automargin\":true,\"gridcolor\":\"white\",\"linecolor\":\"white\",\"ticks\":\"\",\"title\":{\"standoff\":15},\"zerolinecolor\":\"white\",\"zerolinewidth\":2},\"yaxis\":{\"automargin\":true,\"gridcolor\":\"white\",\"linecolor\":\"white\",\"ticks\":\"\",\"title\":{\"standoff\":15},\"zerolinecolor\":\"white\",\"zerolinewidth\":2}}},\"legend\":{\"tracegroupgap\":0},\"margin\":{\"t\":60}},                        {\"responsive\": true}                    ).then(function(){\n",
       "                            \n",
       "var gd = document.getElementById('55ea83d5-c1a3-4513-8fce-c8546406b8fb');\n",
       "var x = new MutationObserver(function (mutations, observer) {{\n",
       "        var display = window.getComputedStyle(gd).display;\n",
       "        if (!display || display === 'none') {{\n",
       "            console.log([gd, 'removed!']);\n",
       "            Plotly.purge(gd);\n",
       "            observer.disconnect();\n",
       "        }}\n",
       "}});\n",
       "\n",
       "// Listen for the removal of the full notebook cells\n",
       "var notebookContainer = gd.closest('#notebook-container');\n",
       "if (notebookContainer) {{\n",
       "    x.observe(notebookContainer, {childList: true});\n",
       "}}\n",
       "\n",
       "// Listen for the clearing of the current output cell\n",
       "var outputEl = gd.closest('.output');\n",
       "if (outputEl) {{\n",
       "    x.observe(outputEl, {childList: true});\n",
       "}}\n",
       "\n",
       "                        })                };                });            </script>        </div>"
      ]
     },
     "metadata": {},
     "output_type": "display_data"
    }
   ],
   "source": [
    "import plotly.express as px\n",
    "fig = px.pie(new_df, values='No_of_Company_with_type', names='TYPE',\n",
    "             color_discrete_map={'Thur':'lightcyan',\n",
    "                                 'Fri':'cyan',\n",
    "                                 'Sat':'royalblue',\n",
    "                                 'Sun':'darkblue'})\n",
    "\n",
    "fig.show()"
   ]
  },
  {
   "cell_type": "markdown",
   "id": "187572fc",
   "metadata": {},
   "source": [
    "###### Answer\n",
    "- Number of product based company = 1632\n",
    "- Number of service based company = 4465"
   ]
  },
  {
   "cell_type": "markdown",
   "id": "af405e48",
   "metadata": {},
   "source": [
    "#### How many total different tags are there ?"
   ]
  },
  {
   "cell_type": "code",
   "execution_count": 275,
   "id": "b4f9f524",
   "metadata": {},
   "outputs": [],
   "source": [
    "abc=set()"
   ]
  },
  {
   "cell_type": "code",
   "execution_count": 276,
   "id": "e89cb899",
   "metadata": {},
   "outputs": [],
   "source": [
    "df4=df"
   ]
  },
  {
   "cell_type": "code",
   "execution_count": 277,
   "id": "da1fd78b",
   "metadata": {},
   "outputs": [],
   "source": [
    "df4.dropna(subset=['tags'],axis=0,inplace=True)"
   ]
  },
  {
   "cell_type": "code",
   "execution_count": 278,
   "id": "d34f328e",
   "metadata": {},
   "outputs": [],
   "source": [
    "for index,row in df4.iterrows():\n",
    "    tags=row['tags']\n",
    "    for tag in tags:\n",
    "        abc.add(tag)"
   ]
  },
  {
   "cell_type": "code",
   "execution_count": 279,
   "id": "0ea1dc49",
   "metadata": {},
   "outputs": [
    {
     "data": {
      "text/plain": [
       "613"
      ]
     },
     "execution_count": 279,
     "metadata": {},
     "output_type": "execute_result"
    }
   ],
   "source": [
    "len(abc)"
   ]
  },
  {
   "cell_type": "markdown",
   "id": "e08c6a00",
   "metadata": {},
   "source": [
    "###### Answer\n",
    "- There are total 629 different tags available for different companies"
   ]
  },
  {
   "cell_type": "markdown",
   "id": "6d36af3f",
   "metadata": {},
   "source": [
    "### Which company has maximum number of employee"
   ]
  },
  {
   "cell_type": "code",
   "execution_count": 280,
   "id": "f931352d",
   "metadata": {},
   "outputs": [],
   "source": [
    "df2=df"
   ]
  },
  {
   "cell_type": "code",
   "execution_count": 281,
   "id": "728809f6",
   "metadata": {},
   "outputs": [],
   "source": [
    "df2.dropna(subset=['employeeNumber','companyName'],axis=0,inplace=True)"
   ]
  },
  {
   "cell_type": "code",
   "execution_count": 282,
   "id": "e79e8a58",
   "metadata": {},
   "outputs": [],
   "source": [
    "df2['max_value'] = df2['employeeNumber'].apply(lambda x: x['max'])\n",
    "df2['min_value'] = df2['employeeNumber'].apply(lambda x: x['min'])"
   ]
  },
  {
   "cell_type": "code",
   "execution_count": 283,
   "id": "09f7a290",
   "metadata": {},
   "outputs": [],
   "source": [
    "new_df = pd.DataFrame({'CompanyName': df2['companyName'],\n",
    "                       'Maximum_Number_Of_Employee': df2['max_value']})"
   ]
  },
  {
   "cell_type": "code",
   "execution_count": 284,
   "id": "1d7c04f1",
   "metadata": {},
   "outputs": [],
   "source": [
    "new_df=new_df.sort_values('Maximum_Number_Of_Employee')"
   ]
  },
  {
   "cell_type": "code",
   "execution_count": 285,
   "id": "2add3bc4",
   "metadata": {},
   "outputs": [
    {
     "data": {
      "application/vnd.plotly.v1+json": {
       "config": {
        "plotlyServerURL": "https://plot.ly"
       },
       "data": [
        {
         "alignmentgroup": "True",
         "hovertemplate": "CompanyName=%{x}<br>Maximum_Number_Of_Employee=%{marker.color}<extra></extra>",
         "legendgroup": "",
         "marker": {
          "color": [
           10001,
           10001,
           10001,
           10001,
           10001,
           10001,
           10001,
           10001,
           10001,
           10001
          ],
          "coloraxis": "coloraxis",
          "pattern": {
           "shape": ""
          }
         },
         "name": "",
         "offsetgroup": "",
         "orientation": "v",
         "showlegend": false,
         "textposition": "auto",
         "type": "bar",
         "x": [
          "cvs health",
          "yum brands",
          "wsp parsons brinckerhoff in india",
          "diageo",
          "compucom",
          "wipro technologies india",
          "lineage logistics",
          "la fitness",
          "johnson matthey",
          "kone middle east"
         ],
         "xaxis": "x",
         "y": [
          10001,
          10001,
          10001,
          10001,
          10001,
          10001,
          10001,
          10001,
          10001,
          10001
         ],
         "yaxis": "y"
        }
       ],
       "layout": {
        "barmode": "relative",
        "coloraxis": {
         "colorbar": {
          "title": {
           "text": "Maximum_Number_Of_Employee"
          }
         },
         "colorscale": [
          [
           0,
           "#0d0887"
          ],
          [
           0.1111111111111111,
           "#46039f"
          ],
          [
           0.2222222222222222,
           "#7201a8"
          ],
          [
           0.3333333333333333,
           "#9c179e"
          ],
          [
           0.4444444444444444,
           "#bd3786"
          ],
          [
           0.5555555555555556,
           "#d8576b"
          ],
          [
           0.6666666666666666,
           "#ed7953"
          ],
          [
           0.7777777777777778,
           "#fb9f3a"
          ],
          [
           0.8888888888888888,
           "#fdca26"
          ],
          [
           1,
           "#f0f921"
          ]
         ]
        },
        "height": 400,
        "legend": {
         "tracegroupgap": 0
        },
        "margin": {
         "t": 60
        },
        "template": {
         "data": {
          "bar": [
           {
            "error_x": {
             "color": "#2a3f5f"
            },
            "error_y": {
             "color": "#2a3f5f"
            },
            "marker": {
             "line": {
              "color": "#E5ECF6",
              "width": 0.5
             },
             "pattern": {
              "fillmode": "overlay",
              "size": 10,
              "solidity": 0.2
             }
            },
            "type": "bar"
           }
          ],
          "barpolar": [
           {
            "marker": {
             "line": {
              "color": "#E5ECF6",
              "width": 0.5
             },
             "pattern": {
              "fillmode": "overlay",
              "size": 10,
              "solidity": 0.2
             }
            },
            "type": "barpolar"
           }
          ],
          "carpet": [
           {
            "aaxis": {
             "endlinecolor": "#2a3f5f",
             "gridcolor": "white",
             "linecolor": "white",
             "minorgridcolor": "white",
             "startlinecolor": "#2a3f5f"
            },
            "baxis": {
             "endlinecolor": "#2a3f5f",
             "gridcolor": "white",
             "linecolor": "white",
             "minorgridcolor": "white",
             "startlinecolor": "#2a3f5f"
            },
            "type": "carpet"
           }
          ],
          "choropleth": [
           {
            "colorbar": {
             "outlinewidth": 0,
             "ticks": ""
            },
            "type": "choropleth"
           }
          ],
          "contour": [
           {
            "colorbar": {
             "outlinewidth": 0,
             "ticks": ""
            },
            "colorscale": [
             [
              0,
              "#0d0887"
             ],
             [
              0.1111111111111111,
              "#46039f"
             ],
             [
              0.2222222222222222,
              "#7201a8"
             ],
             [
              0.3333333333333333,
              "#9c179e"
             ],
             [
              0.4444444444444444,
              "#bd3786"
             ],
             [
              0.5555555555555556,
              "#d8576b"
             ],
             [
              0.6666666666666666,
              "#ed7953"
             ],
             [
              0.7777777777777778,
              "#fb9f3a"
             ],
             [
              0.8888888888888888,
              "#fdca26"
             ],
             [
              1,
              "#f0f921"
             ]
            ],
            "type": "contour"
           }
          ],
          "contourcarpet": [
           {
            "colorbar": {
             "outlinewidth": 0,
             "ticks": ""
            },
            "type": "contourcarpet"
           }
          ],
          "heatmap": [
           {
            "colorbar": {
             "outlinewidth": 0,
             "ticks": ""
            },
            "colorscale": [
             [
              0,
              "#0d0887"
             ],
             [
              0.1111111111111111,
              "#46039f"
             ],
             [
              0.2222222222222222,
              "#7201a8"
             ],
             [
              0.3333333333333333,
              "#9c179e"
             ],
             [
              0.4444444444444444,
              "#bd3786"
             ],
             [
              0.5555555555555556,
              "#d8576b"
             ],
             [
              0.6666666666666666,
              "#ed7953"
             ],
             [
              0.7777777777777778,
              "#fb9f3a"
             ],
             [
              0.8888888888888888,
              "#fdca26"
             ],
             [
              1,
              "#f0f921"
             ]
            ],
            "type": "heatmap"
           }
          ],
          "heatmapgl": [
           {
            "colorbar": {
             "outlinewidth": 0,
             "ticks": ""
            },
            "colorscale": [
             [
              0,
              "#0d0887"
             ],
             [
              0.1111111111111111,
              "#46039f"
             ],
             [
              0.2222222222222222,
              "#7201a8"
             ],
             [
              0.3333333333333333,
              "#9c179e"
             ],
             [
              0.4444444444444444,
              "#bd3786"
             ],
             [
              0.5555555555555556,
              "#d8576b"
             ],
             [
              0.6666666666666666,
              "#ed7953"
             ],
             [
              0.7777777777777778,
              "#fb9f3a"
             ],
             [
              0.8888888888888888,
              "#fdca26"
             ],
             [
              1,
              "#f0f921"
             ]
            ],
            "type": "heatmapgl"
           }
          ],
          "histogram": [
           {
            "marker": {
             "pattern": {
              "fillmode": "overlay",
              "size": 10,
              "solidity": 0.2
             }
            },
            "type": "histogram"
           }
          ],
          "histogram2d": [
           {
            "colorbar": {
             "outlinewidth": 0,
             "ticks": ""
            },
            "colorscale": [
             [
              0,
              "#0d0887"
             ],
             [
              0.1111111111111111,
              "#46039f"
             ],
             [
              0.2222222222222222,
              "#7201a8"
             ],
             [
              0.3333333333333333,
              "#9c179e"
             ],
             [
              0.4444444444444444,
              "#bd3786"
             ],
             [
              0.5555555555555556,
              "#d8576b"
             ],
             [
              0.6666666666666666,
              "#ed7953"
             ],
             [
              0.7777777777777778,
              "#fb9f3a"
             ],
             [
              0.8888888888888888,
              "#fdca26"
             ],
             [
              1,
              "#f0f921"
             ]
            ],
            "type": "histogram2d"
           }
          ],
          "histogram2dcontour": [
           {
            "colorbar": {
             "outlinewidth": 0,
             "ticks": ""
            },
            "colorscale": [
             [
              0,
              "#0d0887"
             ],
             [
              0.1111111111111111,
              "#46039f"
             ],
             [
              0.2222222222222222,
              "#7201a8"
             ],
             [
              0.3333333333333333,
              "#9c179e"
             ],
             [
              0.4444444444444444,
              "#bd3786"
             ],
             [
              0.5555555555555556,
              "#d8576b"
             ],
             [
              0.6666666666666666,
              "#ed7953"
             ],
             [
              0.7777777777777778,
              "#fb9f3a"
             ],
             [
              0.8888888888888888,
              "#fdca26"
             ],
             [
              1,
              "#f0f921"
             ]
            ],
            "type": "histogram2dcontour"
           }
          ],
          "mesh3d": [
           {
            "colorbar": {
             "outlinewidth": 0,
             "ticks": ""
            },
            "type": "mesh3d"
           }
          ],
          "parcoords": [
           {
            "line": {
             "colorbar": {
              "outlinewidth": 0,
              "ticks": ""
             }
            },
            "type": "parcoords"
           }
          ],
          "pie": [
           {
            "automargin": true,
            "type": "pie"
           }
          ],
          "scatter": [
           {
            "marker": {
             "colorbar": {
              "outlinewidth": 0,
              "ticks": ""
             }
            },
            "type": "scatter"
           }
          ],
          "scatter3d": [
           {
            "line": {
             "colorbar": {
              "outlinewidth": 0,
              "ticks": ""
             }
            },
            "marker": {
             "colorbar": {
              "outlinewidth": 0,
              "ticks": ""
             }
            },
            "type": "scatter3d"
           }
          ],
          "scattercarpet": [
           {
            "marker": {
             "colorbar": {
              "outlinewidth": 0,
              "ticks": ""
             }
            },
            "type": "scattercarpet"
           }
          ],
          "scattergeo": [
           {
            "marker": {
             "colorbar": {
              "outlinewidth": 0,
              "ticks": ""
             }
            },
            "type": "scattergeo"
           }
          ],
          "scattergl": [
           {
            "marker": {
             "colorbar": {
              "outlinewidth": 0,
              "ticks": ""
             }
            },
            "type": "scattergl"
           }
          ],
          "scattermapbox": [
           {
            "marker": {
             "colorbar": {
              "outlinewidth": 0,
              "ticks": ""
             }
            },
            "type": "scattermapbox"
           }
          ],
          "scatterpolar": [
           {
            "marker": {
             "colorbar": {
              "outlinewidth": 0,
              "ticks": ""
             }
            },
            "type": "scatterpolar"
           }
          ],
          "scatterpolargl": [
           {
            "marker": {
             "colorbar": {
              "outlinewidth": 0,
              "ticks": ""
             }
            },
            "type": "scatterpolargl"
           }
          ],
          "scatterternary": [
           {
            "marker": {
             "colorbar": {
              "outlinewidth": 0,
              "ticks": ""
             }
            },
            "type": "scatterternary"
           }
          ],
          "surface": [
           {
            "colorbar": {
             "outlinewidth": 0,
             "ticks": ""
            },
            "colorscale": [
             [
              0,
              "#0d0887"
             ],
             [
              0.1111111111111111,
              "#46039f"
             ],
             [
              0.2222222222222222,
              "#7201a8"
             ],
             [
              0.3333333333333333,
              "#9c179e"
             ],
             [
              0.4444444444444444,
              "#bd3786"
             ],
             [
              0.5555555555555556,
              "#d8576b"
             ],
             [
              0.6666666666666666,
              "#ed7953"
             ],
             [
              0.7777777777777778,
              "#fb9f3a"
             ],
             [
              0.8888888888888888,
              "#fdca26"
             ],
             [
              1,
              "#f0f921"
             ]
            ],
            "type": "surface"
           }
          ],
          "table": [
           {
            "cells": {
             "fill": {
              "color": "#EBF0F8"
             },
             "line": {
              "color": "white"
             }
            },
            "header": {
             "fill": {
              "color": "#C8D4E3"
             },
             "line": {
              "color": "white"
             }
            },
            "type": "table"
           }
          ]
         },
         "layout": {
          "annotationdefaults": {
           "arrowcolor": "#2a3f5f",
           "arrowhead": 0,
           "arrowwidth": 1
          },
          "autotypenumbers": "strict",
          "coloraxis": {
           "colorbar": {
            "outlinewidth": 0,
            "ticks": ""
           }
          },
          "colorscale": {
           "diverging": [
            [
             0,
             "#8e0152"
            ],
            [
             0.1,
             "#c51b7d"
            ],
            [
             0.2,
             "#de77ae"
            ],
            [
             0.3,
             "#f1b6da"
            ],
            [
             0.4,
             "#fde0ef"
            ],
            [
             0.5,
             "#f7f7f7"
            ],
            [
             0.6,
             "#e6f5d0"
            ],
            [
             0.7,
             "#b8e186"
            ],
            [
             0.8,
             "#7fbc41"
            ],
            [
             0.9,
             "#4d9221"
            ],
            [
             1,
             "#276419"
            ]
           ],
           "sequential": [
            [
             0,
             "#0d0887"
            ],
            [
             0.1111111111111111,
             "#46039f"
            ],
            [
             0.2222222222222222,
             "#7201a8"
            ],
            [
             0.3333333333333333,
             "#9c179e"
            ],
            [
             0.4444444444444444,
             "#bd3786"
            ],
            [
             0.5555555555555556,
             "#d8576b"
            ],
            [
             0.6666666666666666,
             "#ed7953"
            ],
            [
             0.7777777777777778,
             "#fb9f3a"
            ],
            [
             0.8888888888888888,
             "#fdca26"
            ],
            [
             1,
             "#f0f921"
            ]
           ],
           "sequentialminus": [
            [
             0,
             "#0d0887"
            ],
            [
             0.1111111111111111,
             "#46039f"
            ],
            [
             0.2222222222222222,
             "#7201a8"
            ],
            [
             0.3333333333333333,
             "#9c179e"
            ],
            [
             0.4444444444444444,
             "#bd3786"
            ],
            [
             0.5555555555555556,
             "#d8576b"
            ],
            [
             0.6666666666666666,
             "#ed7953"
            ],
            [
             0.7777777777777778,
             "#fb9f3a"
            ],
            [
             0.8888888888888888,
             "#fdca26"
            ],
            [
             1,
             "#f0f921"
            ]
           ]
          },
          "colorway": [
           "#636efa",
           "#EF553B",
           "#00cc96",
           "#ab63fa",
           "#FFA15A",
           "#19d3f3",
           "#FF6692",
           "#B6E880",
           "#FF97FF",
           "#FECB52"
          ],
          "font": {
           "color": "#2a3f5f"
          },
          "geo": {
           "bgcolor": "white",
           "lakecolor": "white",
           "landcolor": "#E5ECF6",
           "showlakes": true,
           "showland": true,
           "subunitcolor": "white"
          },
          "hoverlabel": {
           "align": "left"
          },
          "hovermode": "closest",
          "mapbox": {
           "style": "light"
          },
          "paper_bgcolor": "white",
          "plot_bgcolor": "#E5ECF6",
          "polar": {
           "angularaxis": {
            "gridcolor": "white",
            "linecolor": "white",
            "ticks": ""
           },
           "bgcolor": "#E5ECF6",
           "radialaxis": {
            "gridcolor": "white",
            "linecolor": "white",
            "ticks": ""
           }
          },
          "scene": {
           "xaxis": {
            "backgroundcolor": "#E5ECF6",
            "gridcolor": "white",
            "gridwidth": 2,
            "linecolor": "white",
            "showbackground": true,
            "ticks": "",
            "zerolinecolor": "white"
           },
           "yaxis": {
            "backgroundcolor": "#E5ECF6",
            "gridcolor": "white",
            "gridwidth": 2,
            "linecolor": "white",
            "showbackground": true,
            "ticks": "",
            "zerolinecolor": "white"
           },
           "zaxis": {
            "backgroundcolor": "#E5ECF6",
            "gridcolor": "white",
            "gridwidth": 2,
            "linecolor": "white",
            "showbackground": true,
            "ticks": "",
            "zerolinecolor": "white"
           }
          },
          "shapedefaults": {
           "line": {
            "color": "#2a3f5f"
           }
          },
          "ternary": {
           "aaxis": {
            "gridcolor": "white",
            "linecolor": "white",
            "ticks": ""
           },
           "baxis": {
            "gridcolor": "white",
            "linecolor": "white",
            "ticks": ""
           },
           "bgcolor": "#E5ECF6",
           "caxis": {
            "gridcolor": "white",
            "linecolor": "white",
            "ticks": ""
           }
          },
          "title": {
           "x": 0.05
          },
          "xaxis": {
           "automargin": true,
           "gridcolor": "white",
           "linecolor": "white",
           "ticks": "",
           "title": {
            "standoff": 15
           },
           "zerolinecolor": "white",
           "zerolinewidth": 2
          },
          "yaxis": {
           "automargin": true,
           "gridcolor": "white",
           "linecolor": "white",
           "ticks": "",
           "title": {
            "standoff": 15
           },
           "zerolinecolor": "white",
           "zerolinewidth": 2
          }
         }
        },
        "xaxis": {
         "anchor": "y",
         "domain": [
          0,
          1
         ],
         "title": {
          "text": "CompanyName"
         }
        },
        "yaxis": {
         "anchor": "x",
         "domain": [
          0,
          1
         ],
         "title": {
          "text": "Maximum_Number_Of_Employee"
         }
        }
       }
      },
      "text/html": [
       "<div>                            <div id=\"17541de9-26cf-4ace-891d-4f2f49a3aab3\" class=\"plotly-graph-div\" style=\"height:400px; width:100%;\"></div>            <script type=\"text/javascript\">                require([\"plotly\"], function(Plotly) {                    window.PLOTLYENV=window.PLOTLYENV || {};                                    if (document.getElementById(\"17541de9-26cf-4ace-891d-4f2f49a3aab3\")) {                    Plotly.newPlot(                        \"17541de9-26cf-4ace-891d-4f2f49a3aab3\",                        [{\"alignmentgroup\":\"True\",\"hovertemplate\":\"CompanyName=%{x}<br>Maximum_Number_Of_Employee=%{marker.color}<extra></extra>\",\"legendgroup\":\"\",\"marker\":{\"color\":[10001,10001,10001,10001,10001,10001,10001,10001,10001,10001],\"coloraxis\":\"coloraxis\",\"pattern\":{\"shape\":\"\"}},\"name\":\"\",\"offsetgroup\":\"\",\"orientation\":\"v\",\"showlegend\":false,\"textposition\":\"auto\",\"x\":[\"cvs health\",\"yum brands\",\"wsp parsons brinckerhoff in india\",\"diageo\",\"compucom\",\"wipro technologies india\",\"lineage logistics\",\"la fitness\",\"johnson matthey\",\"kone middle east\"],\"xaxis\":\"x\",\"y\":[10001,10001,10001,10001,10001,10001,10001,10001,10001,10001],\"yaxis\":\"y\",\"type\":\"bar\"}],                        {\"template\":{\"data\":{\"bar\":[{\"error_x\":{\"color\":\"#2a3f5f\"},\"error_y\":{\"color\":\"#2a3f5f\"},\"marker\":{\"line\":{\"color\":\"#E5ECF6\",\"width\":0.5},\"pattern\":{\"fillmode\":\"overlay\",\"size\":10,\"solidity\":0.2}},\"type\":\"bar\"}],\"barpolar\":[{\"marker\":{\"line\":{\"color\":\"#E5ECF6\",\"width\":0.5},\"pattern\":{\"fillmode\":\"overlay\",\"size\":10,\"solidity\":0.2}},\"type\":\"barpolar\"}],\"carpet\":[{\"aaxis\":{\"endlinecolor\":\"#2a3f5f\",\"gridcolor\":\"white\",\"linecolor\":\"white\",\"minorgridcolor\":\"white\",\"startlinecolor\":\"#2a3f5f\"},\"baxis\":{\"endlinecolor\":\"#2a3f5f\",\"gridcolor\":\"white\",\"linecolor\":\"white\",\"minorgridcolor\":\"white\",\"startlinecolor\":\"#2a3f5f\"},\"type\":\"carpet\"}],\"choropleth\":[{\"colorbar\":{\"outlinewidth\":0,\"ticks\":\"\"},\"type\":\"choropleth\"}],\"contour\":[{\"colorbar\":{\"outlinewidth\":0,\"ticks\":\"\"},\"colorscale\":[[0.0,\"#0d0887\"],[0.1111111111111111,\"#46039f\"],[0.2222222222222222,\"#7201a8\"],[0.3333333333333333,\"#9c179e\"],[0.4444444444444444,\"#bd3786\"],[0.5555555555555556,\"#d8576b\"],[0.6666666666666666,\"#ed7953\"],[0.7777777777777778,\"#fb9f3a\"],[0.8888888888888888,\"#fdca26\"],[1.0,\"#f0f921\"]],\"type\":\"contour\"}],\"contourcarpet\":[{\"colorbar\":{\"outlinewidth\":0,\"ticks\":\"\"},\"type\":\"contourcarpet\"}],\"heatmap\":[{\"colorbar\":{\"outlinewidth\":0,\"ticks\":\"\"},\"colorscale\":[[0.0,\"#0d0887\"],[0.1111111111111111,\"#46039f\"],[0.2222222222222222,\"#7201a8\"],[0.3333333333333333,\"#9c179e\"],[0.4444444444444444,\"#bd3786\"],[0.5555555555555556,\"#d8576b\"],[0.6666666666666666,\"#ed7953\"],[0.7777777777777778,\"#fb9f3a\"],[0.8888888888888888,\"#fdca26\"],[1.0,\"#f0f921\"]],\"type\":\"heatmap\"}],\"heatmapgl\":[{\"colorbar\":{\"outlinewidth\":0,\"ticks\":\"\"},\"colorscale\":[[0.0,\"#0d0887\"],[0.1111111111111111,\"#46039f\"],[0.2222222222222222,\"#7201a8\"],[0.3333333333333333,\"#9c179e\"],[0.4444444444444444,\"#bd3786\"],[0.5555555555555556,\"#d8576b\"],[0.6666666666666666,\"#ed7953\"],[0.7777777777777778,\"#fb9f3a\"],[0.8888888888888888,\"#fdca26\"],[1.0,\"#f0f921\"]],\"type\":\"heatmapgl\"}],\"histogram\":[{\"marker\":{\"pattern\":{\"fillmode\":\"overlay\",\"size\":10,\"solidity\":0.2}},\"type\":\"histogram\"}],\"histogram2d\":[{\"colorbar\":{\"outlinewidth\":0,\"ticks\":\"\"},\"colorscale\":[[0.0,\"#0d0887\"],[0.1111111111111111,\"#46039f\"],[0.2222222222222222,\"#7201a8\"],[0.3333333333333333,\"#9c179e\"],[0.4444444444444444,\"#bd3786\"],[0.5555555555555556,\"#d8576b\"],[0.6666666666666666,\"#ed7953\"],[0.7777777777777778,\"#fb9f3a\"],[0.8888888888888888,\"#fdca26\"],[1.0,\"#f0f921\"]],\"type\":\"histogram2d\"}],\"histogram2dcontour\":[{\"colorbar\":{\"outlinewidth\":0,\"ticks\":\"\"},\"colorscale\":[[0.0,\"#0d0887\"],[0.1111111111111111,\"#46039f\"],[0.2222222222222222,\"#7201a8\"],[0.3333333333333333,\"#9c179e\"],[0.4444444444444444,\"#bd3786\"],[0.5555555555555556,\"#d8576b\"],[0.6666666666666666,\"#ed7953\"],[0.7777777777777778,\"#fb9f3a\"],[0.8888888888888888,\"#fdca26\"],[1.0,\"#f0f921\"]],\"type\":\"histogram2dcontour\"}],\"mesh3d\":[{\"colorbar\":{\"outlinewidth\":0,\"ticks\":\"\"},\"type\":\"mesh3d\"}],\"parcoords\":[{\"line\":{\"colorbar\":{\"outlinewidth\":0,\"ticks\":\"\"}},\"type\":\"parcoords\"}],\"pie\":[{\"automargin\":true,\"type\":\"pie\"}],\"scatter\":[{\"marker\":{\"colorbar\":{\"outlinewidth\":0,\"ticks\":\"\"}},\"type\":\"scatter\"}],\"scatter3d\":[{\"line\":{\"colorbar\":{\"outlinewidth\":0,\"ticks\":\"\"}},\"marker\":{\"colorbar\":{\"outlinewidth\":0,\"ticks\":\"\"}},\"type\":\"scatter3d\"}],\"scattercarpet\":[{\"marker\":{\"colorbar\":{\"outlinewidth\":0,\"ticks\":\"\"}},\"type\":\"scattercarpet\"}],\"scattergeo\":[{\"marker\":{\"colorbar\":{\"outlinewidth\":0,\"ticks\":\"\"}},\"type\":\"scattergeo\"}],\"scattergl\":[{\"marker\":{\"colorbar\":{\"outlinewidth\":0,\"ticks\":\"\"}},\"type\":\"scattergl\"}],\"scattermapbox\":[{\"marker\":{\"colorbar\":{\"outlinewidth\":0,\"ticks\":\"\"}},\"type\":\"scattermapbox\"}],\"scatterpolar\":[{\"marker\":{\"colorbar\":{\"outlinewidth\":0,\"ticks\":\"\"}},\"type\":\"scatterpolar\"}],\"scatterpolargl\":[{\"marker\":{\"colorbar\":{\"outlinewidth\":0,\"ticks\":\"\"}},\"type\":\"scatterpolargl\"}],\"scatterternary\":[{\"marker\":{\"colorbar\":{\"outlinewidth\":0,\"ticks\":\"\"}},\"type\":\"scatterternary\"}],\"surface\":[{\"colorbar\":{\"outlinewidth\":0,\"ticks\":\"\"},\"colorscale\":[[0.0,\"#0d0887\"],[0.1111111111111111,\"#46039f\"],[0.2222222222222222,\"#7201a8\"],[0.3333333333333333,\"#9c179e\"],[0.4444444444444444,\"#bd3786\"],[0.5555555555555556,\"#d8576b\"],[0.6666666666666666,\"#ed7953\"],[0.7777777777777778,\"#fb9f3a\"],[0.8888888888888888,\"#fdca26\"],[1.0,\"#f0f921\"]],\"type\":\"surface\"}],\"table\":[{\"cells\":{\"fill\":{\"color\":\"#EBF0F8\"},\"line\":{\"color\":\"white\"}},\"header\":{\"fill\":{\"color\":\"#C8D4E3\"},\"line\":{\"color\":\"white\"}},\"type\":\"table\"}]},\"layout\":{\"annotationdefaults\":{\"arrowcolor\":\"#2a3f5f\",\"arrowhead\":0,\"arrowwidth\":1},\"autotypenumbers\":\"strict\",\"coloraxis\":{\"colorbar\":{\"outlinewidth\":0,\"ticks\":\"\"}},\"colorscale\":{\"diverging\":[[0,\"#8e0152\"],[0.1,\"#c51b7d\"],[0.2,\"#de77ae\"],[0.3,\"#f1b6da\"],[0.4,\"#fde0ef\"],[0.5,\"#f7f7f7\"],[0.6,\"#e6f5d0\"],[0.7,\"#b8e186\"],[0.8,\"#7fbc41\"],[0.9,\"#4d9221\"],[1,\"#276419\"]],\"sequential\":[[0.0,\"#0d0887\"],[0.1111111111111111,\"#46039f\"],[0.2222222222222222,\"#7201a8\"],[0.3333333333333333,\"#9c179e\"],[0.4444444444444444,\"#bd3786\"],[0.5555555555555556,\"#d8576b\"],[0.6666666666666666,\"#ed7953\"],[0.7777777777777778,\"#fb9f3a\"],[0.8888888888888888,\"#fdca26\"],[1.0,\"#f0f921\"]],\"sequentialminus\":[[0.0,\"#0d0887\"],[0.1111111111111111,\"#46039f\"],[0.2222222222222222,\"#7201a8\"],[0.3333333333333333,\"#9c179e\"],[0.4444444444444444,\"#bd3786\"],[0.5555555555555556,\"#d8576b\"],[0.6666666666666666,\"#ed7953\"],[0.7777777777777778,\"#fb9f3a\"],[0.8888888888888888,\"#fdca26\"],[1.0,\"#f0f921\"]]},\"colorway\":[\"#636efa\",\"#EF553B\",\"#00cc96\",\"#ab63fa\",\"#FFA15A\",\"#19d3f3\",\"#FF6692\",\"#B6E880\",\"#FF97FF\",\"#FECB52\"],\"font\":{\"color\":\"#2a3f5f\"},\"geo\":{\"bgcolor\":\"white\",\"lakecolor\":\"white\",\"landcolor\":\"#E5ECF6\",\"showlakes\":true,\"showland\":true,\"subunitcolor\":\"white\"},\"hoverlabel\":{\"align\":\"left\"},\"hovermode\":\"closest\",\"mapbox\":{\"style\":\"light\"},\"paper_bgcolor\":\"white\",\"plot_bgcolor\":\"#E5ECF6\",\"polar\":{\"angularaxis\":{\"gridcolor\":\"white\",\"linecolor\":\"white\",\"ticks\":\"\"},\"bgcolor\":\"#E5ECF6\",\"radialaxis\":{\"gridcolor\":\"white\",\"linecolor\":\"white\",\"ticks\":\"\"}},\"scene\":{\"xaxis\":{\"backgroundcolor\":\"#E5ECF6\",\"gridcolor\":\"white\",\"gridwidth\":2,\"linecolor\":\"white\",\"showbackground\":true,\"ticks\":\"\",\"zerolinecolor\":\"white\"},\"yaxis\":{\"backgroundcolor\":\"#E5ECF6\",\"gridcolor\":\"white\",\"gridwidth\":2,\"linecolor\":\"white\",\"showbackground\":true,\"ticks\":\"\",\"zerolinecolor\":\"white\"},\"zaxis\":{\"backgroundcolor\":\"#E5ECF6\",\"gridcolor\":\"white\",\"gridwidth\":2,\"linecolor\":\"white\",\"showbackground\":true,\"ticks\":\"\",\"zerolinecolor\":\"white\"}},\"shapedefaults\":{\"line\":{\"color\":\"#2a3f5f\"}},\"ternary\":{\"aaxis\":{\"gridcolor\":\"white\",\"linecolor\":\"white\",\"ticks\":\"\"},\"baxis\":{\"gridcolor\":\"white\",\"linecolor\":\"white\",\"ticks\":\"\"},\"bgcolor\":\"#E5ECF6\",\"caxis\":{\"gridcolor\":\"white\",\"linecolor\":\"white\",\"ticks\":\"\"}},\"title\":{\"x\":0.05},\"xaxis\":{\"automargin\":true,\"gridcolor\":\"white\",\"linecolor\":\"white\",\"ticks\":\"\",\"title\":{\"standoff\":15},\"zerolinecolor\":\"white\",\"zerolinewidth\":2},\"yaxis\":{\"automargin\":true,\"gridcolor\":\"white\",\"linecolor\":\"white\",\"ticks\":\"\",\"title\":{\"standoff\":15},\"zerolinecolor\":\"white\",\"zerolinewidth\":2}}},\"xaxis\":{\"anchor\":\"y\",\"domain\":[0.0,1.0],\"title\":{\"text\":\"CompanyName\"}},\"yaxis\":{\"anchor\":\"x\",\"domain\":[0.0,1.0],\"title\":{\"text\":\"Maximum_Number_Of_Employee\"}},\"coloraxis\":{\"colorbar\":{\"title\":{\"text\":\"Maximum_Number_Of_Employee\"}},\"colorscale\":[[0.0,\"#0d0887\"],[0.1111111111111111,\"#46039f\"],[0.2222222222222222,\"#7201a8\"],[0.3333333333333333,\"#9c179e\"],[0.4444444444444444,\"#bd3786\"],[0.5555555555555556,\"#d8576b\"],[0.6666666666666666,\"#ed7953\"],[0.7777777777777778,\"#fb9f3a\"],[0.8888888888888888,\"#fdca26\"],[1.0,\"#f0f921\"]]},\"legend\":{\"tracegroupgap\":0},\"margin\":{\"t\":60},\"barmode\":\"relative\",\"height\":400},                        {\"responsive\": true}                    ).then(function(){\n",
       "                            \n",
       "var gd = document.getElementById('17541de9-26cf-4ace-891d-4f2f49a3aab3');\n",
       "var x = new MutationObserver(function (mutations, observer) {{\n",
       "        var display = window.getComputedStyle(gd).display;\n",
       "        if (!display || display === 'none') {{\n",
       "            console.log([gd, 'removed!']);\n",
       "            Plotly.purge(gd);\n",
       "            observer.disconnect();\n",
       "        }}\n",
       "}});\n",
       "\n",
       "// Listen for the removal of the full notebook cells\n",
       "var notebookContainer = gd.closest('#notebook-container');\n",
       "if (notebookContainer) {{\n",
       "    x.observe(notebookContainer, {childList: true});\n",
       "}}\n",
       "\n",
       "// Listen for the clearing of the current output cell\n",
       "var outputEl = gd.closest('.output');\n",
       "if (outputEl) {{\n",
       "    x.observe(outputEl, {childList: true});\n",
       "}}\n",
       "\n",
       "                        })                };                });            </script>        </div>"
      ]
     },
     "metadata": {},
     "output_type": "display_data"
    }
   ],
   "source": [
    "import plotly.express as px\n",
    "fig = px.bar(new_df.tail(10), x='CompanyName', y='Maximum_Number_Of_Employee',\n",
    "             hover_data=[\"Maximum_Number_Of_Employee\"], color='Maximum_Number_Of_Employee',\n",
    "              height=400)\n",
    "fig.show()"
   ]
  },
  {
   "cell_type": "code",
   "execution_count": null,
   "id": "f4af93c2",
   "metadata": {},
   "outputs": [],
   "source": []
  },
  {
   "cell_type": "code",
   "execution_count": null,
   "id": "c0189679",
   "metadata": {},
   "outputs": [],
   "source": []
  },
  {
   "cell_type": "code",
   "execution_count": null,
   "id": "0e1f5ab2",
   "metadata": {},
   "outputs": [],
   "source": []
  }
 ],
 "metadata": {
  "kernelspec": {
   "display_name": "Python 3 (ipykernel)",
   "language": "python",
   "name": "python3"
  },
  "language_info": {
   "codemirror_mode": {
    "name": "ipython",
    "version": 3
   },
   "file_extension": ".py",
   "mimetype": "text/x-python",
   "name": "python",
   "nbconvert_exporter": "python",
   "pygments_lexer": "ipython3",
   "version": "3.9.7"
  }
 },
 "nbformat": 4,
 "nbformat_minor": 5
}
